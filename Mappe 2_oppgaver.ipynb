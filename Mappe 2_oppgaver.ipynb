{
 "cells": [
  {
   "cell_type": "markdown",
   "id": "44d8d9ac-9714-458a-a55d-679e7f3990ab",
   "metadata": {},
   "source": [
    "# Mappeoppgave 2"
   ]
  },
  {
   "cell_type": "markdown",
   "id": "8c9e5c66-c191-45ef-a422-2d3ffe170cd1",
   "metadata": {},
   "source": [
    "#### Informasjon om oppgaven\n",
    "Når du besvarer oppgaven, husk: \n",
    "- les oppgaveteksten nøye\n",
    "- kommenter koden din\n",
    "- sett navn på akser og lignende i figurene\n",
    "- skriv hvor du har hentet kodesnutter fra, hvis du gjør det\n",
    "- bruk engelske variabelnavn og vær konsistent med hvordan du bruker store og små bokstaver\n",
    "- bruk mest mulig funksjoner for ting som kan repeteres\n",
    "- En kort kode kan være en bra kode, så ikke gjør det mer komplisert enn det spørres om.\n",
    "\n",
    "Du kan få full pott uten å svare på oppgaven som er markert \"ekstrapoeng\". Du blir likevel belønnet for denne (dvs. hvis du har noen feil og får 45 poeng totalt, så kan du få en høyere poengsum hvis du også har svart på \"ekstrapoeng\". \n",
    "\n",
    "#### Innlevering av oppgavene\n",
    "Du skal levere begge mappene samtidig (det vil si denne oppgaven og mappe 1). Innleveringsfristen er 6 desember kl 13:00. \n",
    "Begge oppgavene skal leveres i github (som jupyter-fil) og wiseflow (som PDF). Bruk navnet  \"SOK-1003-eksamen-2022-mappe2\" på filene.\n",
    "- For github: Husk å gi meg (brukernavn \"okaars\") tilgang til github-reposetoriet deres. Hvis dere har satt reposetoriet til public (anbefales ikke), må dere dele lenken til dette på ole.k.aars@uit.no\n",
    "- For wiseflow: En person fra hver gruppe (for hver mappeoppgave), leverer inn. Ved innlevering kan du krysse av hvem som er på gruppen din \n",
    "\n",
    "Se generell informasjon om hvordan man leverer oppgaven <th><a href='https://uit-sok-1003-h22.github.io/semesteroppgave.html'>her</a>.\n",
    "    \n",
    "<b> NB!:</b> En person fra gruppa må <a href='https://docs.google.com/forms/d/e/1FAIpQLSeljUukzUU5d-VbxyM4C0x4WUplhUKBCU5wIpPZl_bP5kN71A/viewform?usp=sf_link'> fylle ut dette skjemaet </a>  for å melde om hvem som er på gruppa. Dere vil i etterkant motta en epost om tidspunkt for presentasjon. \n",
    "    \n",
    "#### Presentasjon\n",
    "Presentasjonen innebærer en kort gjennomgang av oppgaven (10-15 min) etterfulgt av kommentarer fra meg (10-15 min). Alle gruppemedlemmer skal bidra til presentasjonen. Det er anbefalt å laste opp besvarelsen på github forut for presentasjonen (helst to dager før) slik at jeg har mulighet til å lese gjennom. Dere vil ha mulighet til å endre besvarelsen etter presentasjonen, frem til endelig innlevering 6 desember.\n",
    "\n",
    "\n"
   ]
  },
  {
   "cell_type": "markdown",
   "id": "06462796-016e-489b-ba82-74ab1e7ef659",
   "metadata": {},
   "source": [
    "### Oppgave 1 (10 poeng)"
   ]
  },
  {
   "cell_type": "markdown",
   "id": "e023ea65-979b-419f-adf7-cc3d9e3b8a96",
   "metadata": {},
   "source": [
    "a) Vi skal spille et spill der vi kaster en terning 6 ganger. Lag en funksjon med \"for-løkke\" som printer alle terningene som har blitt kastet. Du kan bruke `np.random.randint()` til å lage tilfeldige tall"
   ]
  },
  {
   "cell_type": "code",
   "execution_count": 44,
   "id": "87606b7f-1d07-4f16-ad7b-8f8aebb00ff0",
   "metadata": {},
   "outputs": [
    {
     "name": "stdout",
     "output_type": "stream",
     "text": [
      "4\n"
     ]
    }
   ],
   "source": [
    "import numpy as np\n",
    "\n",
    "for i in range(0,100):\n",
    "    Terning = np.random.randint(1,6)\n",
    "\n",
    "print(Terning)"
   ]
  },
  {
   "cell_type": "markdown",
   "id": "513b72af-3d26-4e95-a339-9741c9baec4c",
   "metadata": {},
   "source": [
    "b) Juster den samme funksjonen slik at den lagrer tallene i en liste før den printer ut selve listen. Dere kan kalle denne listen for `lot_numbers`. Dere kan vurdere å bruke `append()` som del av funksjonen. "
   ]
  },
  {
   "cell_type": "code",
   "execution_count": 45,
   "id": "c6572aa3-75a2-4148-9945-7143e0215fab",
   "metadata": {},
   "outputs": [
    {
     "name": "stdout",
     "output_type": "stream",
     "text": [
      "[2, 5, 4, 4, 5, 2]\n"
     ]
    }
   ],
   "source": [
    "lot_numbers = []\n",
    "\n",
    "for i in range(0,6):\n",
    "    x = np.random.randint(1,6)\n",
    "    lot_numbers.append(x)\n",
    "\n",
    "print(lot_numbers)"
   ]
  },
  {
   "cell_type": "markdown",
   "id": "82475b42-e595-4a0f-be43-79fcafd68ec6",
   "metadata": {},
   "source": [
    "c) Juster den samme funksjonen slik at den har to argument. Disse argumentene er to terningverdier som du \"tipper\" blir kastet. Bruk `if`, `else` og `elif` til å generere vinnertall. Resultatet fra funksjonen skal printe ut ulike setninger avhengig av om man får 0, 1 eller 2 rette. Setningene velger du selv, men de skal inneholde tallene som du tippet, og tallene som ble trukket.  "
   ]
  },
  {
   "cell_type": "code",
   "execution_count": 46,
   "id": "c5be1693-2afc-462a-a978-eefaf621a038",
   "metadata": {},
   "outputs": [
    {
     "name": "stdout",
     "output_type": "stream",
     "text": [
      "Du tapte!\n"
     ]
    }
   ],
   "source": [
    "def did_i_win(x):\n",
    "    if 6>x>=4:\n",
    "        return \"Du vant!\"\n",
    "    elif x==6:\n",
    "        return \"Jackpot!\"\n",
    "    else:\n",
    "        return \"Du tapte!\"\n",
    "\n",
    "x = np.random.randint(1,7)\n",
    "print(did_i_win(x))"
   ]
  },
  {
   "cell_type": "markdown",
   "id": "4b4172a9-635c-498b-bbbc-8444ba90fdbb",
   "metadata": {
    "tags": []
   },
   "source": [
    "### Oppgave 2 (10 poeng)\n",
    "a) Du har nå begynt å spille lotto i stedet, og satser alt på ett vinnertall. Lag en while-løkke som printer ut tall helt til du har trukket riktig tall (som du definerer selv). For enkelthets skyld kan du begrense utfallsrommet av trekningene til mellom 0-30."
   ]
  },
  {
   "cell_type": "code",
   "execution_count": 47,
   "id": "56ab890f-b7a3-47a1-b605-3606e0324560",
   "metadata": {},
   "outputs": [
    {
     "name": "stdout",
     "output_type": "stream",
     "text": [
      "15\n",
      "29\n",
      "22\n",
      "26\n",
      "28\n",
      "8\n",
      "25\n",
      "9\n",
      "7\n",
      "6\n",
      "15\n",
      "3\n",
      "23\n",
      "9\n",
      "25\n",
      "28\n",
      "25\n",
      "2\n",
      "26\n",
      "11\n",
      "18\n",
      "1\n",
      "8\n",
      "12\n",
      "21\n",
      "27\n",
      "7\n",
      "15\n",
      "10\n",
      "13\n",
      "15\n",
      "2\n",
      "28\n",
      "24\n",
      "28\n",
      "27\n",
      "14\n",
      "13\n",
      "23\n",
      "11\n",
      "7\n",
      "24\n",
      "1\n",
      "11\n",
      "8\n",
      "13\n",
      "5\n",
      "5\n"
     ]
    }
   ],
   "source": [
    "import random\n",
    "\n",
    "while True:\n",
    "    lotto = random.randint(1, 30)\n",
    "    print(lotto)\n",
    "    if lotto == 5:\n",
    "        break\n",
    "\n",
    "        \n",
    "print(lotto)"
   ]
  },
  {
   "cell_type": "markdown",
   "id": "07c405a6-2ba7-4e14-89d8-159f3246a1da",
   "metadata": {},
   "source": [
    "b) Lag et plot av den while-løkken du nettopp lagde. Man blir belønnet om man; \n",
    "- bruker `scatter`; \n",
    "- lager plottet dynamisk (dvs at hver trekning vises hver for seg, og at x-aksen endrer seg etter en gitt verdi); \n",
    "- viser hvor når siste trekningen blir gjort (dvs at den vises kun når du har trukket vinnertallet).\n",
    "\n",
    "Avhengig av hvordan du lager figuren din kan du får bruk for å importere pakkene `Ellipse`, `display`, `clear_output`."
   ]
  },
  {
   "cell_type": "code",
   "execution_count": 48,
   "id": "6987281c-d636-4595-a542-1b0d468f08f2",
   "metadata": {},
   "outputs": [],
   "source": [
    "#pakker som du kan få bruk for\n",
    "from matplotlib.patches import Ellipse\n",
    "from IPython.display import display, clear_output"
   ]
  },
  {
   "cell_type": "code",
   "execution_count": 49,
   "id": "47501e7e-530e-4e1a-a485-709856b62bfa",
   "metadata": {},
   "outputs": [
    {
     "data": {
      "text/plain": [
       "<matplotlib.legend.Legend at 0x7eff79aa4b20>"
      ]
     },
     "execution_count": 49,
     "metadata": {},
     "output_type": "execute_result"
    },
    {
     "data": {
      "image/png": "[encoded data removed]",
      "text/plain": [
       "<Figure size 1440x720 with 1 Axes>"
      ]
     },
     "metadata": {
      "needs_background": "light"
     },
     "output_type": "display_data"
    }
   ],
   "source": [
    "import pandas as pd\n",
    "\n",
    "fig, ax = plt.subplots(figsize=(20, 10))\n",
    "ax.set_ylim([0,200])\n",
    "ax.set_xlim([0,15])\n",
    "\n",
    "x,y,dy=0,1,0\n",
    "\n",
    "ypath=[]\n",
    "xpath=[]\n",
    "\n",
    "while x<30:\n",
    "    x+= 1\n",
    "    y+= lotto\n",
    "    lotto = random.randint(1, 30)\n",
    "\n",
    "\n",
    "    xpath.append(x)\n",
    "    ypath.append(y)\n",
    "ax.scatter(xpath,ypath,label='Lotto')\n",
    "ax.legend(loc='upper left',frameon=False,fontsize=30)"
   ]
  },
  {
   "cell_type": "markdown",
   "id": "ce376b8a-4ab8-4f08-83cd-31e2a25d918c",
   "metadata": {},
   "source": [
    "c) Ekstrapoeng: gjør det samme som i (b), men lag et histogram som vises ved siden av. Dette histogrammet skal vise hvor mange ganger de ulike tallene ble trekt. Bruk `plt.hist` til dette. Husk at du må definere figur og akseobjekt først.  "
   ]
  },
  {
   "cell_type": "code",
   "execution_count": 50,
   "id": "7daaa879-f592-44b5-94c0-cb023f6dba1e",
   "metadata": {},
   "outputs": [
    {
     "data": {
      "text/plain": [
       "<matplotlib.legend.Legend at 0x7eff79a98ac0>"
      ]
     },
     "execution_count": 50,
     "metadata": {},
     "output_type": "execute_result"
    },
    {
     "data": {
      "image/png": "[encoded data removed]",
      "text/plain": [
       "<Figure size 432x288 with 1 Axes>"
      ]
     },
     "metadata": {
      "needs_background": "light"
     },
     "output_type": "display_data"
    },
    {
     "data": {
      "image/png": "[encoded data removed]",
      "text/plain": [
       "<Figure size 1440x720 with 1 Axes>"
      ]
     },
     "metadata": {
      "needs_background": "light"
     },
     "output_type": "display_data"
    }
   ],
   "source": [
    "fig = plt.figure()\n",
    "img1 = fig.add_subplot(121)\n",
    "lotto = random.randint(1, 30)\n",
    "plt.hist(lotto)\n",
    "plt.xlabel('Verdi')\n",
    "plt.ylabel('Probability')\n",
    "plt.title('Histogram')\n",
    "\n",
    "fig, ax = plt.subplots(figsize=(20, 10))\n",
    "ax.set_ylim([0,200])\n",
    "ax.set_xlim([0,15])\n",
    "\n",
    "x,y,dy=0,1,0\n",
    "\n",
    "ypath=[]\n",
    "xpath=[]\n",
    "\n",
    "while x<30:\n",
    "    x+= 1\n",
    "    y+= lotto\n",
    "    lotto = random.randint(1, 30)\n",
    "\n",
    "\n",
    "    xpath.append(x)\n",
    "    ypath.append(y)\n",
    "ax.scatter(xpath,ypath,label='Lotto')\n",
    "ax.legend(loc='upper left',frameon=False,fontsize=30)"
   ]
  },
  {
   "cell_type": "markdown",
   "id": "c8f4e513-42c3-4d3b-a781-e97e5c484c1d",
   "metadata": {},
   "source": [
    "### Oppgave 3 (20 poeng)"
   ]
  },
  {
   "cell_type": "markdown",
   "id": "e3685232-4e17-4460-b83e-bf5ac0fe626c",
   "metadata": {},
   "source": [
    "En bedrift produserer biler. Produktfunksjonen til bedriften defineres slik  $f(L, a, R) = 2RL^{a}$, hvor:\n",
    "- `L` er arbeidskraft, \n",
    "- `a` er produktiviteten til arbeiderne og \n",
    "- `R` er antall robotmaskiner\n",
    "\n",
    "a) Lag en formel for produktfunksjonen til bedriften og plot den grafisk med ulike verdier av `L` på x-aksen. Anta `a=0.6` og `R=2`"
   ]
  },
  {
   "cell_type": "code",
   "execution_count": 51,
   "id": "3a30a765-dd60-4a26-a324-02d6a5c26eb9",
   "metadata": {},
   "outputs": [
    {
     "data": {
      "text/plain": [
       "<function matplotlib.pyplot.show(close=None, block=None)>"
      ]
     },
     "execution_count": 51,
     "metadata": {},
     "output_type": "execute_result"
    },
    {
     "data": {
      "image/png": "[encoded data removed]",
      "text/plain": [
       "<Figure size 432x288 with 1 Axes>"
      ]
     },
     "metadata": {
      "needs_background": "light"
     },
     "output_type": "display_data"
    }
   ],
   "source": [
    "#Laste ned pakker\n",
    "import numpy as np\n",
    "from matplotlib import pyplot as plt\n",
    "\n",
    "#For å lage funksjonen\n",
    "def produkt(L,a,R):\n",
    "    return 2*R*L**a\n",
    "\n",
    "#Figurativt for antall arbeidere\n",
    "L = np.linspace(0, 10, 100)\n",
    "\n",
    "#For å plotte inn funksjonen inni en graf\n",
    "plt.plot(L, produkt(L,0.6,2), color = 'blue')\n",
    "\n",
    "plt.show"
   ]
  },
  {
   "cell_type": "markdown",
   "id": "761b1c38-b798-4f13-b954-34ac93544549",
   "metadata": {},
   "source": [
    "b) anta at profittfunksjonen til denne bedriften er ${profit = f(L, a, R)p-wL-cR-K}$, hvor \n",
    "- `w` er månedslønnen til arbeiderne, \n",
    "- `c` er kostnaden for robotmaskinene \n",
    "- `K` er faste kostnader\n",
    "- `p` er utsalgsprisen på bilene. \n",
    "\n",
    "Anta `a=0.6`,`R=6`, `p=300 000`, `w=100 000`, `c= 1 000 000` og `K=90 000 000`. Plot profittfunksjonen figurativt for antall arbeidere (`L`) mellom 0 og 10 000. Vis profitten i millioner (dvs at du må dele på 1 000 000)"
   ]
  },
  {
   "cell_type": "code",
   "execution_count": 52,
   "id": "a92c5e55-ee62-4043-90af-cae9445ee11a",
   "metadata": {},
   "outputs": [],
   "source": [
    "#Funksjon av profitt\n",
    "def profitt(L,a,R,p,w,c,K):\n",
    "    return (2*R*L**a)*p-w*L-c*R-K"
   ]
  },
  {
   "cell_type": "code",
   "execution_count": 53,
   "id": "cfc74b00-b68c-4305-acfd-9cb446e7f0c1",
   "metadata": {},
   "outputs": [
    {
     "data": {
      "text/plain": [
       "<matplotlib.legend.Legend at 0x7eff7991f4c0>"
      ]
     },
     "execution_count": 53,
     "metadata": {},
     "output_type": "execute_result"
    },
    {
     "data": {
      "image/png": "[encoded data removed]",
      "text/plain": [
       "<Figure size 432x288 with 1 Axes>"
      ]
     },
     "metadata": {
      "needs_background": "light"
     },
     "output_type": "display_data"
    }
   ],
   "source": [
    "#Last ned pakkene\n",
    "import matplotlib.pyplot as plt\n",
    "import numpy as np\n",
    "\n",
    "#Lag en plot\n",
    "x = np.linspace(0, 10000, 1000000)\n",
    "fig,ax=plt.subplots()\n",
    "ax.set_xlabel('kroner')\n",
    "ax.set_ylabel('Antall ansatte')\n",
    "\n",
    "\n",
    "#Plot funksjonen\n",
    "plt.plot(x,profitt(x,0.6,6,300000,100000,1000000,90000000),label='Fortjeneste')\n",
    "ax.legend(loc='lower right',frameon=False)"
   ]
  },
  {
   "cell_type": "markdown",
   "id": "abec7c59-aa53-4350-bb7a-01b7ec2488ec",
   "metadata": {},
   "source": [
    "c) Plot profitttfunksjonen for antall robostmaskiner `R=[3, 6, 9]` i samme plot (dvs at tre profittfunksjoner vises sammen). Bruk av \"for loops\" for å gjøre dette belønnes"
   ]
  },
  {
   "cell_type": "code",
   "execution_count": 54,
   "id": "e0d5dadb-c207-4ea2-9093-2edc9cffa6c5",
   "metadata": {},
   "outputs": [
    {
     "data": {
      "image/png": "[encoded data removed]",
      "text/plain": [
       "<Figure size 432x288 with 1 Axes>"
      ]
     },
     "metadata": {
      "needs_background": "light"
     },
     "output_type": "display_data"
    }
   ],
   "source": [
    "#Last ned pakkene\n",
    "import numpy as np\n",
    "import matplotlib.pyplot as plt\n",
    "\n",
    "#Funksjonen for profitt\n",
    "def profitt(L,a,R,p,w,c,K):\n",
    "    return (2*R*L**a)*p-w*L-c*R-K\n",
    "\n",
    "#Lag en for loop for R\n",
    "for R in [3,6,9]:\n",
    "    plt.plot(L, profitt(L,0.6,R,300000,100000,1000000,90000000))\n",
    "\n",
    "#Lager en x-akse\n",
    "x = np.arange(10)\n",
    "\n",
    "#Hvis grafen\n",
    "plt.show()"
   ]
  },
  {
   "cell_type": "markdown",
   "id": "cd9c9d0d-f57c-4fb7-8869-b795f74ce934",
   "metadata": {},
   "source": [
    "d) finn profittmaksimum og optimal antall arbeidere ved hjelp av derivasjon med samme forutsetninger som i (1b). Bruk `sympy`-pakken til dette "
   ]
  },
  {
   "cell_type": "code",
   "execution_count": 55,
   "id": "1081a59e-9f9f-4a2f-ab4d-a9139740ba5b",
   "metadata": {},
   "outputs": [],
   "source": [
    "#pakker du kan få bruk for\n",
    "import sympy as sp \n",
    "from sympy.solvers import solve\n"
   ]
  },
  {
   "cell_type": "code",
   "execution_count": 56,
   "id": "7907c2aa-d285-4713-a129-e1c537194fac",
   "metadata": {},
   "outputs": [
    {
     "data": {
      "text/latex": [
       "$\\displaystyle - K - L w + 2 L^{a} R p - R c$"
      ],
      "text/plain": [
       "-K - L*w + 2*L**a*R*p - R*c"
      ]
     },
     "execution_count": 56,
     "metadata": {},
     "output_type": "execute_result"
    }
   ],
   "source": [
    "#Funksjonen for grafen\n",
    "def profitt(L,a,R,p,w,c,K):\n",
    "    return (2*R*L**a)*p-w*L-c*R-K\n",
    "\n",
    "#Definere funksjonen for at det skal bli enklere å jobbe med \n",
    "L,a,R,p,w,c,K=sp.symbols(\"L a R p w c K\")\n",
    "\n",
    "profitt(L,a,R,p,w,c,K)"
   ]
  },
  {
   "cell_type": "code",
   "execution_count": 57,
   "id": "5a0ea7ea-db47-42eb-b8bd-4337370fce19",
   "metadata": {},
   "outputs": [
    {
     "data": {
      "text/latex": [
       "$\\displaystyle - w + \\frac{2 L^{a} R a p}{L}$"
      ],
      "text/plain": [
       "-w + 2*L**a*R*a*p/L"
      ]
     },
     "execution_count": 57,
     "metadata": {},
     "output_type": "execute_result"
    }
   ],
   "source": [
    "#Derivere funksjonen med hensyn til L\n",
    "d_profitt=sp.diff(profitt(L,a,R,p,w,c,K),L)\n",
    "d_profitt"
   ]
  },
  {
   "cell_type": "code",
   "execution_count": 58,
   "id": "23d8b796-bcd6-4c07-91e6-09de1b372408",
   "metadata": {},
   "outputs": [
    {
     "data": {
      "text/latex": [
       "$\\displaystyle - w + \\frac{2 L^{a} R a p}{L} = 0$"
      ],
      "text/plain": [
       "Eq(-w + 2*L**a*R*a*p/L, 0)"
      ]
     },
     "execution_count": 58,
     "metadata": {},
     "output_type": "execute_result"
    }
   ],
   "source": [
    "#Legger til at funksjonen har verdien av null for at den kan løses\n",
    "foc=sp.Eq(d_profitt,0)\n",
    "foc"
   ]
  },
  {
   "cell_type": "code",
   "execution_count": 59,
   "id": "6512bf0b-8866-41f5-ae08-53cb788e2b26",
   "metadata": {},
   "outputs": [
    {
     "data": {
      "text/latex": [
       "$\\displaystyle \\left(\\frac{2 R a p}{w}\\right)^{- \\frac{1}{a - 1}}$"
      ],
      "text/plain": [
       "(2*R*a*p/w)**(-1/(a - 1))"
      ]
     },
     "execution_count": 59,
     "metadata": {},
     "output_type": "execute_result"
    }
   ],
   "source": [
    "#Bruker solve for å regne ut det maksimale verdien av L\n",
    "L_max=solve(foc,L)[0]\n",
    "L_max"
   ]
  },
  {
   "cell_type": "code",
   "execution_count": 60,
   "id": "a7101c1f-0bbe-414f-8d9d-eedfeedb7528",
   "metadata": {},
   "outputs": [
    {
     "data": {
      "text/latex": [
       "$\\displaystyle - K - R c + 2 R p \\left(\\left(\\frac{2 R a p}{w}\\right)^{- \\frac{1}{a - 1}}\\right)^{a} - w \\left(\\frac{2 R a p}{w}\\right)^{- \\frac{1}{a - 1}}$"
      ],
      "text/plain": [
       "-K - R*c + 2*R*p*((2*R*a*p/w)**(-1/(a - 1)))**a - w/(2*R*a*p/w)**(1/(a - 1))"
      ]
     },
     "execution_count": 60,
     "metadata": {},
     "output_type": "execute_result"
    }
   ],
   "source": [
    "#Regne ut en funksjon for maks profitten\n",
    "profit_max=profitt(L_max,a,R,p,w,c,K)\n",
    "profit_max"
   ]
  },
  {
   "cell_type": "code",
   "execution_count": 61,
   "id": "8a59dea9-c5ee-46b8-9f24-33e30af819cf",
   "metadata": {},
   "outputs": [],
   "source": [
    "#Gi verdi til hvert symbol\n",
    "num_dict={a:0.6,R:6,p:300000,w:100000,c:1000000,K:90000000}"
   ]
  },
  {
   "cell_type": "code",
   "execution_count": 62,
   "id": "d18a4c26-a50c-418c-862d-b8e46cb13617",
   "metadata": {},
   "outputs": [
    {
     "data": {
      "text/latex": [
       "$\\displaystyle 2168.37493200784$"
      ],
      "text/plain": [
       "2168.37493200784"
      ]
     },
     "execution_count": 62,
     "metadata": {},
     "output_type": "execute_result"
    }
   ],
   "source": [
    "#Utregning for å finne ut for å finne maks profitt av arbeidere\n",
    "L_max.subs(num_dict)"
   ]
  },
  {
   "cell_type": "code",
   "execution_count": 63,
   "id": "8340689d-303d-4765-8738-36dd27245b80",
   "metadata": {},
   "outputs": [
    {
     "data": {
      "text/plain": [
       "{a: 0.6,\n",
       " R: 6,\n",
       " p: 300000,\n",
       " w: 100000,\n",
       " c: 1000000,\n",
       " K: 90000000,\n",
       " L: 2168.37493200784}"
      ]
     },
     "execution_count": 63,
     "metadata": {},
     "output_type": "execute_result"
    }
   ],
   "source": [
    "#Lagre de nye verdiene\n",
    "num_dict[L]=L_max.subs(num_dict)\n",
    "num_dict"
   ]
  },
  {
   "cell_type": "code",
   "execution_count": 64,
   "id": "d5dc1ff1-f64e-4927-847e-e90953279a9a",
   "metadata": {},
   "outputs": [
    {
     "data": {
      "text/plain": [
       "48558328.800522506"
      ]
     },
     "execution_count": 64,
     "metadata": {},
     "output_type": "execute_result"
    }
   ],
   "source": [
    "#Regne ut maksimal profitt\n",
    "profit_max_num=float(profitt(L,a,R,p,w,c,K).subs(num_dict))\n",
    "profit_max_num"
   ]
  },
  {
   "cell_type": "markdown",
   "id": "d4614067-a66f-46d5-ae32-d641942554a1",
   "metadata": {},
   "source": [
    "e) vis figurativt med bruk av `fill_between` arealet hvor man taper penger (i rødt) og hvor man tjener penger (i grønt). Marker også profittmaksimum og antall arbeidere i profittmaksimum - gjerne ved bruk av `vlines`. Bruk ellers samme forutsetninger for argumentene som i oppgave (1b)"
   ]
  },
  {
   "cell_type": "code",
   "execution_count": 65,
   "id": "267eccfe-d1ab-4e45-a1f4-63990001efc0",
   "metadata": {},
   "outputs": [
    {
     "data": {
      "image/png": "[encoded data removed]",
      "text/plain": [
       "<Figure size 432x288 with 1 Axes>"
      ]
     },
     "execution_count": 65,
     "metadata": {},
     "output_type": "execute_result"
    }
   ],
   "source": [
    "ax.plot(x,\n",
    "        profit_max_num*np.ones(len(x)),\n",
    "        label='tangent')\n",
    "ax.vlines(float(L_max.subs(num_dict)), \n",
    "          -300000, \n",
    "          profit_max_num*1.1,\n",
    "          colors=['black'],\n",
    "          linestyles='dashed',\n",
    "          label='optimum')\n",
    "\n",
    "\n",
    "ax.legend(loc='lower right',frameon=False)\n",
    "ax.axhline(0, color='black',lw=0.1)\n",
    "fig"
   ]
  },
  {
   "cell_type": "code",
   "execution_count": null,
   "id": "767cc651-5d6b-4454-a465-19bd5c75c9a5",
   "metadata": {},
   "outputs": [],
   "source": [
    "ax.plot(x,\n",
    "        profit_max_num*np.ones(len(x)),\n",
    "        label='tangent')\n",
    "ax.vlines(float(L_max.subs(num_dict)), \n",
    "          -300000, \n",
    "          profit_max_num*1.1,\n",
    "          colors=['black'],\n",
    "          linestyles='dashed',\n",
    "          label='optimum')\n",
    "\n",
    "ax.legend(loc='lower right',frameon=False)\n",
    "ax.axhline(0, color='black',lw=0.1)\n",
    "fig"
   ]
  },
  {
   "cell_type": "markdown",
   "id": "c7c75529-8429-49bd-b475-c3809f0cc087",
   "metadata": {},
   "source": [
    "f) Plot nå to figurer sammen der du viser hva optimal antall arbeidere gir i profitt (slik som i (2e)) og produksjon av antall biler (som du får fra produktfunksjonen). Marker optimum med vlines. Ha grafen med profittfunksjonen over grafen med produktfunksjonen. Du kan bruke `fig, (ax1, ax2) = plt.subplots(2)` når du skal gjøre dette. <br>\n",
    "\n",
    "<b> Hint: </b> Du kan finne antall biler som blir produsert ved å bruke antall arbeidere i profittmaksimum, i produktfunksjonen.\n"
   ]
  },
  {
   "cell_type": "code",
   "execution_count": null,
   "id": "c257e111-e078-4a48-afa5-74ff2bef9d56",
   "metadata": {},
   "outputs": [],
   "source": []
  },
  {
   "cell_type": "markdown",
   "id": "405329a8-fe5e-45a0-bf3b-d1182af70c1f",
   "metadata": {},
   "source": [
    "### Oppgave 4 (10 poeng)\n",
    "I denne oppgaven skal vi hente ut et datasett fra eurostat på investeringer i hosholdningen. Bruk koden under til å hente ut dataene.\n",
    "<br><b>NB!:</b> Husk at dere må ha innstallert pakken `eurostat`. Dette gjør dere med å åpne \"Terminal\" og kjøre  `pip install eurostat`."
   ]
  },
  {
   "cell_type": "code",
   "execution_count": 66,
   "id": "444371dc-188a-478a-86f5-4d3c0f36bfff",
   "metadata": {},
   "outputs": [],
   "source": [
    "import eurostat\n",
    "\n",
    "inv_data = eurostat.get_data_df('tec00098')\n"
   ]
  },
  {
   "cell_type": "markdown",
   "id": "cfd54317-e3e2-437f-a9d5-26d941c3d9d5",
   "metadata": {},
   "source": [
    "a) Bytt navn på kolonnen \"geo\\\\time\" til \"country\" ved bruk av en av kodene under. Fjern så alle kolonner utenom \"country\" og alle årstallene. \n",
    "<br> <b>NB!:</b> Noen vil få en ekstra første kolonne som heter \"freq\" eller noe annet. Da må dere bruke versjon 2 av koden under. "
   ]
  },
  {
   "cell_type": "code",
   "execution_count": 67,
   "id": "4dc833b6-7349-4773-9789-47d2da20015d",
   "metadata": {
    "tags": []
   },
   "outputs": [
    {
     "ename": "TypeError",
     "evalue": "'list' object is not callable",
     "output_type": "error",
     "traceback": [
      "\u001b[0;31m---------------------------------------------------------------------------\u001b[0m",
      "\u001b[0;31mTypeError\u001b[0m                                 Traceback (most recent call last)",
      "Input \u001b[0;32mIn [67]\u001b[0m, in \u001b[0;36m<cell line: 1>\u001b[0;34m()\u001b[0m\n\u001b[0;32m----> 1\u001b[0m inv_data\u001b[38;5;241m.\u001b[39mcolumns \u001b[38;5;241m=\u001b[39m [\u001b[38;5;124m'\u001b[39m\u001b[38;5;124munit\u001b[39m\u001b[38;5;124m'\u001b[39m,   \u001b[38;5;124m'\u001b[39m\u001b[38;5;124msector\u001b[39m\u001b[38;5;124m'\u001b[39m,  \u001b[38;5;124m'\u001b[39m\u001b[38;5;124mna_item\u001b[39m\u001b[38;5;124m'\u001b[39m, \u001b[38;5;124m'\u001b[39m\u001b[38;5;124mcountry\u001b[39m\u001b[38;5;124m'\u001b[39m] \u001b[38;5;241m+\u001b[39m \u001b[38;5;28;43mlist\u001b[39;49m\u001b[43m(\u001b[49m\u001b[38;5;28;43mrange\u001b[39;49m\u001b[43m(\u001b[49m\u001b[38;5;241;43m2010\u001b[39;49m\u001b[43m,\u001b[49m\u001b[43m \u001b[49m\u001b[38;5;241;43m2022\u001b[39;49m\u001b[43m)\u001b[49m\u001b[43m)\u001b[49m\n",
      "\u001b[0;31mTypeError\u001b[0m: 'list' object is not callable"
     ]
    }
   ],
   "source": [
    "inv_data.columns = ['unit',   'sector',  'na_item', 'country'] + list(range(2010, 2022)) #v1\n"
   ]
  },
  {
   "cell_type": "code",
   "execution_count": 68,
   "id": "2e3da626-a5e4-4ed5-af0f-29023179b077",
   "metadata": {},
   "outputs": [
    {
     "ename": "TypeError",
     "evalue": "'list' object is not callable",
     "output_type": "error",
     "traceback": [
      "\u001b[0;31m---------------------------------------------------------------------------\u001b[0m",
      "\u001b[0;31mTypeError\u001b[0m                                 Traceback (most recent call last)",
      "Input \u001b[0;32mIn [68]\u001b[0m, in \u001b[0;36m<cell line: 1>\u001b[0;34m()\u001b[0m\n\u001b[0;32m----> 1\u001b[0m inv_data\u001b[38;5;241m.\u001b[39mcolumns \u001b[38;5;241m=\u001b[39m [\u001b[38;5;124m'\u001b[39m\u001b[38;5;124mfreq\u001b[39m\u001b[38;5;124m'\u001b[39m, \u001b[38;5;124m'\u001b[39m\u001b[38;5;124munit\u001b[39m\u001b[38;5;124m'\u001b[39m,   \u001b[38;5;124m'\u001b[39m\u001b[38;5;124msector\u001b[39m\u001b[38;5;124m'\u001b[39m,  \u001b[38;5;124m'\u001b[39m\u001b[38;5;124mna_item\u001b[39m\u001b[38;5;124m'\u001b[39m, \u001b[38;5;124m'\u001b[39m\u001b[38;5;124mcountry\u001b[39m\u001b[38;5;124m'\u001b[39m] \u001b[38;5;241m+\u001b[39m \u001b[38;5;28;43mlist\u001b[39;49m\u001b[43m(\u001b[49m\u001b[38;5;28;43mrange\u001b[39;49m\u001b[43m(\u001b[49m\u001b[38;5;241;43m2010\u001b[39;49m\u001b[43m,\u001b[49m\u001b[43m \u001b[49m\u001b[38;5;241;43m2022\u001b[39;49m\u001b[43m)\u001b[49m\u001b[43m)\u001b[49m\n",
      "\u001b[0;31mTypeError\u001b[0m: 'list' object is not callable"
     ]
    }
   ],
   "source": [
    "inv_data.columns = ['freq', 'unit',   'sector',  'na_item', 'country'] + list(range(2010, 2022)) #v2 \n"
   ]
  },
  {
   "cell_type": "code",
   "execution_count": 32,
   "id": "d865b426-4125-4a59-b477-aba6942d6f08",
   "metadata": {
    "collapsed": true,
    "jupyter": {
     "outputs_hidden": true
    },
    "tags": []
   },
   "outputs": [
    {
     "name": "stdout",
     "output_type": "stream",
     "text": [
      "   geo\\TIME_PERIOD   2010   2011   2012   2013   2014   2015   2016   2017  \\\n",
      "0               AT   8.44   8.60   8.47   8.58   8.30   8.36   8.29   8.69   \n",
      "1               BE   9.82   9.45   9.37   9.03   9.45   9.31   9.33   9.28   \n",
      "2               CH   6.83   6.48   6.29   6.31   6.20   6.26   6.13   6.07   \n",
      "3               CY  13.72  10.73   8.74   7.53   7.15   6.69   8.02   8.97   \n",
      "4               CZ  11.14   9.82   8.74   8.77   8.88   8.84   9.18   7.86   \n",
      "5               DE   8.72   9.51   9.61   9.56   9.65   9.32   9.62   9.48   \n",
      "6               DK   8.50   8.51   7.87   7.35   7.60   7.50   7.46   8.10   \n",
      "7             EA19   9.30   9.21   8.80   8.37   8.24   8.09   8.35   8.52   \n",
      "8               EE   6.14   6.47   6.84   7.52   7.79   7.94   8.52   8.99   \n",
      "9               EL   9.12   8.54   6.28   4.90   3.16   2.72   2.75   2.69   \n",
      "10              ES   9.66   7.85   6.48   4.84   4.72   4.57   4.60   5.17   \n",
      "11       EU27_2020   9.07   8.95   8.56   8.12   8.06   7.97   8.22   8.42   \n",
      "12            EU28   8.44   8.34   7.94   7.67   7.65   7.55   7.85   8.16   \n",
      "13              FI  11.66  12.18  12.12  11.49  10.88  10.49  11.57  12.09   \n",
      "14              FR   9.31   9.46   9.31   9.27   9.07   8.88   8.99   9.41   \n",
      "15              HR   5.96   5.66   5.53   5.01   4.78   4.91   4.96   5.01   \n",
      "16              HU   6.67   5.11   4.80   4.92   5.17   5.68   5.86   6.53   \n",
      "17              IE   6.01   4.96   4.12   4.29   4.41   4.72   5.26   5.50   \n",
      "18              IS   4.45   4.58   4.81   5.19   5.57    NaN    NaN    NaN   \n",
      "19              IT  10.33   9.82   9.20   8.42   7.78   7.58   7.68   7.74   \n",
      "20              LT   4.73   5.11   4.70   5.56   6.04   6.68   6.89   6.51   \n",
      "21              LU   9.69  11.26  10.43  11.34  12.75  12.34  12.48  12.35   \n",
      "22              LV   3.56   4.92   6.17   4.62   4.98   5.76   4.87   4.83   \n",
      "23              NL  10.05   9.54   8.47   7.46   8.10   9.08  10.60  10.80   \n",
      "24              NO   9.71  10.98  11.74  12.32  11.82  11.35  12.34  13.02   \n",
      "25              PL   7.99   7.92   8.24   7.59   7.86   7.88   7.52   6.88   \n",
      "26              PT   6.27   5.81   5.07   4.37   4.51   4.50   4.71   5.05   \n",
      "27              RS    NaN    NaN    NaN    NaN    NaN   2.63   3.25   3.17   \n",
      "28              SE   5.86   5.48   4.51   4.61   4.69   5.69   6.15   6.77   \n",
      "29              SI   6.92   6.30   5.78   5.50   5.65   5.81   5.85   6.28   \n",
      "30              SK   6.32   7.00   6.65   7.08   6.39   6.10   6.75   6.71   \n",
      "31              UK   4.96   5.02   4.95   5.27   5.67   5.84   6.16   6.77   \n",
      "\n",
      "     2018   2019   2020   2021  \n",
      "0    8.81   9.03   9.21   9.99  \n",
      "1    9.35   9.78   9.15   9.94  \n",
      "2    6.06   5.69   5.42    NaN  \n",
      "3   11.30  12.98  13.12  13.26  \n",
      "4    9.00   9.45   9.34   9.24  \n",
      "5    9.68   9.71   9.95  10.55  \n",
      "6    8.33   8.57   8.69   9.24  \n",
      "7    8.71   8.77   8.53   9.51  \n",
      "8    8.68   9.26   9.94  10.04  \n",
      "9    2.44   2.59   2.97   3.40  \n",
      "10   5.42   5.54   5.34   6.68  \n",
      "11   8.54   8.60   8.33   9.19  \n",
      "12   8.24   8.39    NaN    NaN  \n",
      "13  12.50  12.25  11.91  12.50  \n",
      "14   9.47   9.62   8.57   9.95  \n",
      "15   5.35   6.37   6.40   6.45  \n",
      "16   7.19   7.52   8.87   8.30  \n",
      "17   6.27   4.92   4.27   5.29  \n",
      "18    NaN    NaN    NaN    NaN  \n",
      "19   7.77   7.64   7.20   8.69  \n",
      "20   6.78   7.09   7.04   7.39  \n",
      "21  11.45  10.34   9.71  11.33  \n",
      "22   5.68   5.85   5.30   4.62  \n",
      "23  11.52  12.15  12.22  12.96  \n",
      "24  12.22  11.89  11.29  11.11  \n",
      "25   5.84   5.93   5.18   6.59  \n",
      "26   5.48   5.65   5.69   6.10  \n",
      "27   3.21   3.35   2.97    NaN  \n",
      "28   6.24   5.88   6.48   6.84  \n",
      "29   6.51   6.33   5.64   6.20  \n",
      "30   6.76   6.79   6.93   7.04  \n",
      "31   6.62   6.81    NaN    NaN  \n"
     ]
    }
   ],
   "source": [
    "#Fjerne fire av kolonnene\n",
    "inv_data.drop(inv_data.columns[[0,1,2,3]], axis=1, inplace=True)\n",
    "\n",
    "print(inv_data)"
   ]
  },
  {
   "cell_type": "markdown",
   "id": "fb718dfb-02b0-49fa-88d0-27fabc3a7948",
   "metadata": {},
   "source": [
    "b) fjern radene med nan verdi. Sett deretter indeksen til \"country\". <br> <b> Hint: </b> En metode er å bruke `isna()` og `any()` over radaksene (dvs. `axis=1`)"
   ]
  },
  {
   "cell_type": "code",
   "execution_count": 33,
   "id": "834b2eda-b002-4bb1-ba63-6db7091c1127",
   "metadata": {
    "collapsed": true,
    "jupyter": {
     "outputs_hidden": true
    },
    "tags": []
   },
   "outputs": [
    {
     "name": "stdout",
     "output_type": "stream",
     "text": [
      "   geo\\TIME_PERIOD   2010   2011   2012   2013   2014   2015   2016   2017  \\\n",
      "0               AT   8.44   8.60   8.47   8.58   8.30   8.36   8.29   8.69   \n",
      "1               BE   9.82   9.45   9.37   9.03   9.45   9.31   9.33   9.28   \n",
      "2               CY  13.72  10.73   8.74   7.53   7.15   6.69   8.02   8.97   \n",
      "3               CZ  11.14   9.82   8.74   8.77   8.88   8.84   9.18   7.86   \n",
      "4               DE   8.72   9.51   9.61   9.56   9.65   9.32   9.62   9.48   \n",
      "5               DK   8.50   8.51   7.87   7.35   7.60   7.50   7.46   8.10   \n",
      "6             EA19   9.30   9.21   8.80   8.37   8.24   8.09   8.35   8.52   \n",
      "7               EE   6.14   6.47   6.84   7.52   7.79   7.94   8.52   8.99   \n",
      "8               EL   9.12   8.54   6.28   4.90   3.16   2.72   2.75   2.69   \n",
      "9               ES   9.66   7.85   6.48   4.84   4.72   4.57   4.60   5.17   \n",
      "10       EU27_2020   9.07   8.95   8.56   8.12   8.06   7.97   8.22   8.42   \n",
      "11              FI  11.66  12.18  12.12  11.49  10.88  10.49  11.57  12.09   \n",
      "12              FR   9.31   9.46   9.31   9.27   9.07   8.88   8.99   9.41   \n",
      "13              HR   5.96   5.66   5.53   5.01   4.78   4.91   4.96   5.01   \n",
      "14              HU   6.67   5.11   4.80   4.92   5.17   5.68   5.86   6.53   \n",
      "15              IE   6.01   4.96   4.12   4.29   4.41   4.72   5.26   5.50   \n",
      "16              IT  10.33   9.82   9.20   8.42   7.78   7.58   7.68   7.74   \n",
      "17              LT   4.73   5.11   4.70   5.56   6.04   6.68   6.89   6.51   \n",
      "18              LU   9.69  11.26  10.43  11.34  12.75  12.34  12.48  12.35   \n",
      "19              LV   3.56   4.92   6.17   4.62   4.98   5.76   4.87   4.83   \n",
      "20              NL  10.05   9.54   8.47   7.46   8.10   9.08  10.60  10.80   \n",
      "21              NO   9.71  10.98  11.74  12.32  11.82  11.35  12.34  13.02   \n",
      "22              PL   7.99   7.92   8.24   7.59   7.86   7.88   7.52   6.88   \n",
      "23              PT   6.27   5.81   5.07   4.37   4.51   4.50   4.71   5.05   \n",
      "24              SE   5.86   5.48   4.51   4.61   4.69   5.69   6.15   6.77   \n",
      "25              SI   6.92   6.30   5.78   5.50   5.65   5.81   5.85   6.28   \n",
      "26              SK   6.32   7.00   6.65   7.08   6.39   6.10   6.75   6.71   \n",
      "\n",
      "     2018   2019   2020   2021  \n",
      "0    8.81   9.03   9.21   9.99  \n",
      "1    9.35   9.78   9.15   9.94  \n",
      "2   11.30  12.98  13.12  13.26  \n",
      "3    9.00   9.45   9.34   9.24  \n",
      "4    9.68   9.71   9.95  10.55  \n",
      "5    8.33   8.57   8.69   9.24  \n",
      "6    8.71   8.77   8.53   9.51  \n",
      "7    8.68   9.26   9.94  10.04  \n",
      "8    2.44   2.59   2.97   3.40  \n",
      "9    5.42   5.54   5.34   6.68  \n",
      "10   8.54   8.60   8.33   9.19  \n",
      "11  12.50  12.25  11.91  12.50  \n",
      "12   9.47   9.62   8.57   9.95  \n",
      "13   5.35   6.37   6.40   6.45  \n",
      "14   7.19   7.52   8.87   8.30  \n",
      "15   6.27   4.92   4.27   5.29  \n",
      "16   7.77   7.64   7.20   8.69  \n",
      "17   6.78   7.09   7.04   7.39  \n",
      "18  11.45  10.34   9.71  11.33  \n",
      "19   5.68   5.85   5.30   4.62  \n",
      "20  11.52  12.15  12.22  12.96  \n",
      "21  12.22  11.89  11.29  11.11  \n",
      "22   5.84   5.93   5.18   6.59  \n",
      "23   5.48   5.65   5.69   6.10  \n",
      "24   6.24   5.88   6.48   6.84  \n",
      "25   6.51   6.33   5.64   6.20  \n",
      "26   6.76   6.79   6.93   7.04  \n"
     ]
    }
   ],
   "source": [
    "#Fjerner radene som har nan verdi\n",
    "inv_data2=inv_data.dropna().reset_index(drop=True)\n",
    "print(inv_data2)"
   ]
  },
  {
   "cell_type": "markdown",
   "id": "f68af0f0-770f-4217-8491-723e8cc7480e",
   "metadata": {},
   "source": [
    "c) Lag et nytt datasett hvor du kun har med de nordiske landene (dvs. \"NO\", \"SE\", \"DK\", \"FI\"). Det kan være nyttig å bruke `isin` til dette. Bytt så om på kolonner og rader ved hjelp av `transpose`. "
   ]
  },
  {
   "cell_type": "code",
   "execution_count": 59,
   "id": "a82331aa-405e-4414-a088-546298c32291",
   "metadata": {
    "collapsed": true,
    "jupyter": {
     "outputs_hidden": true
    },
    "tags": []
   },
   "outputs": [
    {
     "name": "stdout",
     "output_type": "stream",
     "text": [
      "            21    24    5      11\n",
      "country     NO    SE    DK     FI\n",
      "2010      9.71  5.86   8.5  11.66\n",
      "2011     10.98  5.48  8.51  12.18\n",
      "2012     11.74  4.51  7.87  12.12\n",
      "2013     12.32  4.61  7.35  11.49\n",
      "2014     11.82  4.69   7.6  10.88\n",
      "2015     11.35  5.69   7.5  10.49\n",
      "2016     12.34  6.15  7.46  11.57\n",
      "2017     13.02  6.77   8.1  12.09\n",
      "2018     12.22  6.24  8.33   12.5\n",
      "2019     11.89  5.88  8.57  12.25\n",
      "2020     11.29  6.48  8.69  11.91\n",
      "2021     11.11  6.84  9.24   12.5\n"
     ]
    }
   ],
   "source": [
    "#Spesifisere verdiene i norden\n",
    "inv_data3 = inv_data2.iloc[[21,24,5,11],:] \n",
    "\n",
    "#Bytter kolonne og rad\n",
    "inv_data3 = inv_data3.transpose()\n",
    "\n",
    "print(inv_data3)"
   ]
  },
  {
   "cell_type": "markdown",
   "id": "2d49e2bb-b44e-4558-b279-1bc10a1ba6ab",
   "metadata": {},
   "source": [
    "d) Lag en ny kolonne som du kaller \"mean\". Denne skal være gjennomsnittet av alle de nordiske landene for hvert av årene (dvs at du må ta gjennomsnittet over radene). Plot så dette og kall y-aksen for \"investering\""
   ]
  },
  {
   "cell_type": "code",
   "execution_count": 23,
   "id": "c78d7898-1931-4b4c-a4ac-f0bd1a4b3499",
   "metadata": {},
   "outputs": [
    {
     "ename": "NameError",
     "evalue": "name 'inv_data3' is not defined",
     "output_type": "error",
     "traceback": [
      "\u001b[0;31m---------------------------------------------------------------------------\u001b[0m",
      "\u001b[0;31mNameError\u001b[0m                                 Traceback (most recent call last)",
      "Input \u001b[0;32mIn [23]\u001b[0m, in \u001b[0;36m<cell line: 8>\u001b[0;34m()\u001b[0m\n\u001b[1;32m      5\u001b[0m list_2 \u001b[38;5;241m=\u001b[39m [\u001b[38;5;241m2010\u001b[39m, \u001b[38;5;241m2011\u001b[39m, \u001b[38;5;241m2012\u001b[39m, \u001b[38;5;241m2013\u001b[39m, \u001b[38;5;241m2014\u001b[39m, \u001b[38;5;241m2015\u001b[39m, \u001b[38;5;241m2016\u001b[39m, \u001b[38;5;241m2017\u001b[39m, \u001b[38;5;241m2018\u001b[39m, \u001b[38;5;241m2019\u001b[39m, \u001b[38;5;241m2010\u001b[39m, \u001b[38;5;241m2011\u001b[39m]\n\u001b[1;32m      7\u001b[0m \u001b[38;5;66;03m#Legge til listene\u001b[39;00m\n\u001b[0;32m----> 8\u001b[0m \u001b[43minv_data3\u001b[49m[\u001b[38;5;124m'\u001b[39m\u001b[38;5;124mmean\u001b[39m\u001b[38;5;124m'\u001b[39m] \u001b[38;5;241m=\u001b[39m \u001b[38;5;28mlist\u001b[39m\n\u001b[1;32m      9\u001b[0m inv_data3[\u001b[38;5;124m'\u001b[39m\u001b[38;5;124myear\u001b[39m\u001b[38;5;124m'\u001b[39m] \u001b[38;5;241m=\u001b[39m list_2\n\u001b[1;32m     11\u001b[0m \u001b[38;5;66;03m#Fjern den første raden\u001b[39;00m\n",
      "\u001b[0;31mNameError\u001b[0m: name 'inv_data3' is not defined"
     ]
    }
   ],
   "source": [
    "#Lager en liste for gjennomsnittet\n",
    "list = [8.93, 9.29, 9.06, 8.94, 8.75, 8.76, 9.38, 9.99, 9.82, 9.64, 9.59, 9.92]\n",
    "\n",
    "#Lager en liste for årene\n",
    "list_2 = [2010, 2011, 2012, 2013, 2014, 2015, 2016, 2017, 2018, 2019, 2010, 2011]\n",
    "\n",
    "#Legge til listene\n",
    "inv_data3['mean'] = list\n",
    "inv_data3['year'] = list_2\n",
    "\n",
    "#Fjern den første raden\n",
    "inv_data3.drop(index=inv_data3.index[0], \n",
    "        axis=0, \n",
    "        inplace=True)\n",
    "\n",
    "#Gi et nytt navn på kolonnene\n",
    "inv_data3.set_axis(['NO', 'SE', 'DK', 'FI', 'mean', 'year'], axis='columns', inplace=True)\n",
    "\n",
    "print(inv_data3)"
   ]
  },
  {
   "cell_type": "code",
   "execution_count": 22,
   "id": "3a830aeb-5097-40df-9c64-795b1088a7cd",
   "metadata": {},
   "outputs": [
    {
     "ename": "NameError",
     "evalue": "name 'inv_data3' is not defined",
     "output_type": "error",
     "traceback": [
      "\u001b[0;31m---------------------------------------------------------------------------\u001b[0m",
      "\u001b[0;31mNameError\u001b[0m                                 Traceback (most recent call last)",
      "Input \u001b[0;32mIn [22]\u001b[0m, in \u001b[0;36m<cell line: 8>\u001b[0;34m()\u001b[0m\n\u001b[1;32m      5\u001b[0m ax \u001b[38;5;241m=\u001b[39m plt\u001b[38;5;241m.\u001b[39mgca() \n\u001b[1;32m      7\u001b[0m \u001b[38;5;66;03m# line plot for math marks\u001b[39;00m\n\u001b[0;32m----> 8\u001b[0m \u001b[43minv_data3\u001b[49m\u001b[38;5;241m.\u001b[39mplot(kind \u001b[38;5;241m=\u001b[39m \u001b[38;5;124m'\u001b[39m\u001b[38;5;124mline\u001b[39m\u001b[38;5;124m'\u001b[39m,\n\u001b[1;32m      9\u001b[0m         x \u001b[38;5;241m=\u001b[39m \u001b[38;5;124m'\u001b[39m\u001b[38;5;124myear\u001b[39m\u001b[38;5;124m'\u001b[39m,\n\u001b[1;32m     10\u001b[0m         y \u001b[38;5;241m=\u001b[39m \u001b[38;5;124m'\u001b[39m\u001b[38;5;124mNO\u001b[39m\u001b[38;5;124m'\u001b[39m,\n\u001b[1;32m     11\u001b[0m         color \u001b[38;5;241m=\u001b[39m \u001b[38;5;124m'\u001b[39m\u001b[38;5;124mgreen\u001b[39m\u001b[38;5;124m'\u001b[39m,ax \u001b[38;5;241m=\u001b[39m ax)\n\u001b[1;32m     13\u001b[0m \u001b[38;5;66;03m# line plot for physics marks\u001b[39;00m\n\u001b[1;32m     14\u001b[0m inv_data3\u001b[38;5;241m.\u001b[39mplot(kind \u001b[38;5;241m=\u001b[39m \u001b[38;5;124m'\u001b[39m\u001b[38;5;124mline\u001b[39m\u001b[38;5;124m'\u001b[39m,x \u001b[38;5;241m=\u001b[39m \u001b[38;5;124m'\u001b[39m\u001b[38;5;124myear\u001b[39m\u001b[38;5;124m'\u001b[39m,\n\u001b[1;32m     15\u001b[0m         y \u001b[38;5;241m=\u001b[39m \u001b[38;5;124m'\u001b[39m\u001b[38;5;124mSE\u001b[39m\u001b[38;5;124m'\u001b[39m,\n\u001b[1;32m     16\u001b[0m         color \u001b[38;5;241m=\u001b[39m \u001b[38;5;124m'\u001b[39m\u001b[38;5;124mblue\u001b[39m\u001b[38;5;124m'\u001b[39m,ax \u001b[38;5;241m=\u001b[39m ax)\n",
      "\u001b[0;31mNameError\u001b[0m: name 'inv_data3' is not defined"
     ]
    },
    {
     "data": {
      "image/png": "[encoded data removed]",
      "text/plain": [
       "<Figure size 432x288 with 1 Axes>"
      ]
     },
     "metadata": {
      "needs_background": "light"
     },
     "output_type": "display_data"
    }
   ],
   "source": [
    "import numpy as np\n",
    "from matplotlib import pyplot as plt\n",
    "\n",
    "#Lag en plot\n",
    "ax = plt.gca() \n",
    "  \n",
    "#Plot inn linjen for Norge\n",
    "inv_data3.plot(kind = 'line',\n",
    "        x = 'year',\n",
    "        y = 'NO',\n",
    "        color = 'green',ax = ax)\n",
    "  \n",
    "# Plot inn linjen for Svergie\n",
    "inv_data3.plot(kind = 'line',x = 'year',\n",
    "        y = 'SE',\n",
    "        color = 'blue',ax = ax)\n",
    "  \n",
    "#Plot inn linjen for Danmark\n",
    "inv_data3.plot(kind = 'line',x = 'year',\n",
    "        y = 'DK',\n",
    "        color = 'black',ax = ax)\n",
    "\n",
    "# Plot inn linjen for Finland\n",
    "inv_data3.plot(kind = 'line',x = 'year',\n",
    "        y = 'FI',\n",
    "        color = 'red',ax = ax)\n",
    "  \n",
    "# Plot inn linjen for gjennomsnittet\n",
    "inv_data3.plot(kind = 'line',x = 'year',\n",
    "        y = 'mean',\n",
    "        color = 'yellow',ax = ax)\n",
    "  \n",
    "#For å vise grafen\n",
    "plt.show()\n",
    "plt.show()"
   ]
  }
 ],
 "metadata": {
  "kernelspec": {
   "display_name": "Python 3 (ipykernel)",
   "language": "python",
   "name": "python3"
  },
  "language_info": {
   "codemirror_mode": {
    "name": "ipython",
    "version": 3
   },
   "file_extension": ".py",
   "mimetype": "text/x-python",
   "name": "python",
   "nbconvert_exporter": "python",
   "pygments_lexer": "ipython3",
   "version": "3.9.13"
  }
 },
 "nbformat": 4,
 "nbformat_minor": 5
}
