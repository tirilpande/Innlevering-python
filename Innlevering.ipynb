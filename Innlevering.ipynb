{
 "cells": [
  {
   "cell_type": "code",
   "execution_count": 2,
   "id": "12ee9796-811d-4902-be1a-366712b1055e",
   "metadata": {},
   "outputs": [],
   "source": [
    "#Last ned pakker\n",
    "import sympy as sp\n",
    "from sympy.solvers import solve\n",
    "from sympy import *\n",
    "import math"
   ]
  },
  {
   "cell_type": "code",
   "execution_count": 5,
   "id": "55d8257e-979e-4c62-9679-a3cc6d95de34",
   "metadata": {},
   "outputs": [
    {
     "data": {
      "text/plain": [
       "{x: -1, y: 2}"
      ]
     },
     "execution_count": 5,
     "metadata": {},
     "output_type": "execute_result"
    }
   ],
   "source": [
    "#Oppgave 15\n",
    "#Oppgave 1a:\n",
    "x,y=sp.symbols(\"x y \")\n",
    "symbols=[x,y]\n",
    "equations=[\n",
    "    sp.Eq(2*x+4*y,6),\n",
    "    sp.Eq(-2*x+y,4)\n",
    "]\n",
    "\n",
    "solve(equations,symbols)\n"
   ]
  },
  {
   "cell_type": "code",
   "execution_count": 6,
   "id": "ecea0874-aaca-4c7b-bc91-10ec588fdf0f",
   "metadata": {},
   "outputs": [
    {
     "data": {
      "text/plain": [
       "[(-1, -1), (2, 5)]"
      ]
     },
     "execution_count": 6,
     "metadata": {},
     "output_type": "execute_result"
    }
   ],
   "source": [
    "#Oppgave 15\n",
    "#Oppgave 1b:\n",
    "x,y=sp.symbols(\"x y \")\n",
    "symbols=[x,y]\n",
    "equations=[\n",
    "    sp.Eq(2*x-y,-1),\n",
    "    sp.Eq(x**2+x-y,1)\n",
    "]\n",
    "\n",
    "solve(equations,symbols)"
   ]
  },
  {
   "cell_type": "code",
   "execution_count": 17,
   "id": "aab6dd78-4196-4283-9341-6768f0eceeb7",
   "metadata": {},
   "outputs": [
    {
     "data": {
      "text/plain": [
       "{x: 4, y: 0}"
      ]
     },
     "execution_count": 17,
     "metadata": {},
     "output_type": "execute_result"
    }
   ],
   "source": [
    "#Oppgave 15\n",
    "#Oppgave 2a:\n",
    "x,y=sp.symbols(\"x y \")\n",
    "symbols=[x,y]\n",
    "equations=[\n",
    "    sp.Eq(3*x-12,-6*y),\n",
    "    sp.Eq(4*x-8*y,16)\n",
    "]\n",
    "\n",
    "solve(equations,symbols)"
   ]
  },
  {
   "cell_type": "code",
   "execution_count": 8,
   "id": "967852ae-7c8d-4540-8a44-27af27770679",
   "metadata": {},
   "outputs": [
    {
     "data": {
      "text/plain": [
       "[(-15/2, 31/4), (2, 3)]"
      ]
     },
     "execution_count": 8,
     "metadata": {},
     "output_type": "execute_result"
    }
   ],
   "source": [
    "#Oppgave 15\n",
    "#Oppgave 2b:\n",
    "x,y=sp.symbols(\"x y \")\n",
    "symbols=[x,y]\n",
    "equations=[\n",
    "    sp.Eq(x**2+4*x-3,3*y),\n",
    "    sp.Eq(2*y,8-x)\n",
    "]\n",
    "\n",
    "solve(equations,symbols)"
   ]
  },
  {
   "cell_type": "code",
   "execution_count": 9,
   "id": "4543df15-9ae1-4945-a4b1-51e7f8a8d7b4",
   "metadata": {},
   "outputs": [
    {
     "data": {
      "text/plain": [
       "{x: 2, y: 2}"
      ]
     },
     "execution_count": 9,
     "metadata": {},
     "output_type": "execute_result"
    }
   ],
   "source": [
    "#Oppgave 16\n",
    "#Oppgave 1a:\n",
    "\n",
    "x,y=sp.symbols(\"x y \")\n",
    "symbols=[x,y]\n",
    "equations=[\n",
    "    sp.Eq(4*x+2*y,12),\n",
    "    sp.Eq(6*x-2*y,8)\n",
    "]\n",
    "\n",
    "solve(equations,symbols)"
   ]
  },
  {
   "cell_type": "code",
   "execution_count": 11,
   "id": "dff60ccc-2018-47fb-a0d8-b2f89af91c26",
   "metadata": {},
   "outputs": [
    {
     "data": {
      "text/plain": [
       "[(0, -5), (12, 1)]"
      ]
     },
     "execution_count": 11,
     "metadata": {},
     "output_type": "execute_result"
    }
   ],
   "source": [
    "#Oppgave 16\n",
    "#Oppgave 1b:\n",
    "\n",
    "x,y=sp.symbols(\"x y \")\n",
    "symbols=[x,y]\n",
    "equations=[\n",
    "    sp.Eq(2*x+y**2,25),\n",
    "    sp.Eq(x-2*y,10)\n",
    "]\n",
    "\n",
    "solve(equations,symbols)"
   ]
  },
  {
   "cell_type": "code",
   "execution_count": 12,
   "id": "6b7160b9-b0af-486e-be69-edfc8b9aee7d",
   "metadata": {},
   "outputs": [
    {
     "data": {
      "text/plain": [
       "{x: 4, y: 2}"
      ]
     },
     "execution_count": 12,
     "metadata": {},
     "output_type": "execute_result"
    }
   ],
   "source": [
    "#Oppgave 16\n",
    "#Oppgave 2a:\n",
    "\n",
    "x,y=sp.symbols(\"x y \")\n",
    "symbols=[x,y]\n",
    "equations=[\n",
    "    sp.Eq(4*x-4*y,8),\n",
    "    sp.Eq(9*x-5*y,26)\n",
    "]\n",
    "\n",
    "solve(equations,symbols)"
   ]
  },
  {
   "cell_type": "code",
   "execution_count": 13,
   "id": "488a16bf-da08-486f-a9c0-8eae2880e0a9",
   "metadata": {},
   "outputs": [
    {
     "data": {
      "text/plain": [
       "[(-9, -2*sqrt(3)), (-9, 2*sqrt(3)), (7, -2), (7, 2)]"
      ]
     },
     "execution_count": 13,
     "metadata": {},
     "output_type": "execute_result"
    }
   ],
   "source": [
    "#Oppgave 16\n",
    "#Oppgave 2b:\n",
    "\n",
    "x,y=sp.symbols(\"x y \")\n",
    "symbols=[x,y]\n",
    "equations=[\n",
    "    sp.Eq(x+2*y**2,15),\n",
    "    sp.Eq(x**2-4*y**2,33)\n",
    "]\n",
    "\n",
    "solve(equations,symbols)"
   ]
  },
  {
   "cell_type": "code",
   "execution_count": 14,
   "id": "eda0ac62-2509-4b96-8cbc-21a6775129c5",
   "metadata": {},
   "outputs": [
    {
     "data": {
      "text/plain": [
       "[(0, -4), (0, 4), (15, -1), (15, 1)]"
      ]
     },
     "execution_count": 14,
     "metadata": {},
     "output_type": "execute_result"
    }
   ],
   "source": [
    "#Oppgave 17\n",
    "#Oppgave 1a:\n",
    "\n",
    "x,y=sp.symbols(\"x y \")\n",
    "symbols=[x,y]\n",
    "equations=[\n",
    "    sp.Eq(x*y**2-x,0),\n",
    "    sp.Eq(x+y**2,16)\n",
    "]\n",
    "\n",
    "solve(equations,symbols)"
   ]
  },
  {
   "cell_type": "code",
   "execution_count": 15,
   "id": "dbd9701e-b65a-4b6e-8ff5-8e41e466d922",
   "metadata": {},
   "outputs": [
    {
     "data": {
      "text/plain": [
       "[(-10, 0), (-6, -8), (-6, 8), (6, -8), (6, 8), (10, 0)]"
      ]
     },
     "execution_count": 15,
     "metadata": {},
     "output_type": "execute_result"
    }
   ],
   "source": [
    "#Oppgave 17\n",
    "#Oppgave 1b:\n",
    "\n",
    "x,y=sp.symbols(\"x y \")\n",
    "symbols=[x,y]\n",
    "equations=[\n",
    "    sp.Eq(x**2+y**2,100),\n",
    "    sp.Eq(x**2*y-36*y,0)\n",
    "]\n",
    "\n",
    "solve(equations,symbols)"
   ]
  },
  {
   "cell_type": "code",
   "execution_count": 16,
   "id": "fa6eb78a-dbf5-49e0-82d3-45cf9f3483fd",
   "metadata": {},
   "outputs": [
    {
     "data": {
      "text/plain": [
       "[(-3, -7), (-3, 7), (0, -sqrt(58)), (0, sqrt(58)), (3, -7), (3, 7)]"
      ]
     },
     "execution_count": 16,
     "metadata": {},
     "output_type": "execute_result"
    }
   ],
   "source": [
    "#Oppgave 17\n",
    "#Oppgave 2a:\n",
    "\n",
    "x,y=sp.symbols(\"x y \")\n",
    "symbols=[x,y]\n",
    "equations=[\n",
    "    sp.Eq(x*y**2-49*x,0),\n",
    "    sp.Eq(x**2+y**2,58)\n",
    "]\n",
    "\n",
    "solve(equations,symbols)"
   ]
  },
  {
   "cell_type": "code",
   "execution_count": 18,
   "id": "abbeb4fb-b86e-4987-bfe0-bb538bbf4026",
   "metadata": {},
   "outputs": [
    {
     "data": {
      "text/plain": [
       "[(-1.11803398874989, 0.0),\n",
       " (-0.500000000000000, -1.00000000000000),\n",
       " (-0.500000000000000, 1.00000000000000),\n",
       " (1.11803398874989, 0.0)]"
      ]
     },
     "execution_count": 18,
     "metadata": {},
     "output_type": "execute_result"
    }
   ],
   "source": [
    "#Oppgave 17\n",
    "#Oppgave 2b:\n",
    "\n",
    "x,y=sp.symbols(\"x y \")\n",
    "symbols=[x,y]\n",
    "equations=[\n",
    "    sp.Eq(x**2+y**2,5/4),\n",
    "    sp.Eq(2*x*y+y,0)\n",
    "]\n",
    "\n",
    "solve(equations,symbols)"
   ]
  },
  {
   "cell_type": "code",
   "execution_count": 19,
   "id": "52203b17-b711-47f2-9342-49f475f5158d",
   "metadata": {},
   "outputs": [
    {
     "data": {
      "text/latex": [
       "$\\displaystyle 5 x^{4}$"
      ],
      "text/plain": [
       "5*x**4"
      ]
     },
     "execution_count": 19,
     "metadata": {},
     "output_type": "execute_result"
    }
   ],
   "source": [
    "#Oppgave 19\n",
    "#Oppgave 1a:\n",
    "\n",
    "x = Symbol('x')\n",
    "f = x**5\n",
    "f_deriv = f.diff(x)\n",
    "f_deriv"
   ]
  },
  {
   "cell_type": "code",
   "execution_count": 20,
   "id": "a891ce19-bac4-4c25-8166-a2d8b886d269",
   "metadata": {},
   "outputs": [
    {
     "data": {
      "text/latex": [
       "$\\displaystyle 1$"
      ],
      "text/plain": [
       "1"
      ]
     },
     "execution_count": 20,
     "metadata": {},
     "output_type": "execute_result"
    }
   ],
   "source": [
    "#Oppgave 19\n",
    "#Oppgave 1b:\n",
    "\n",
    "x = Symbol('x')\n",
    "f = x + 12\n",
    "f_deriv = f.diff(x)\n",
    "f_deriv"
   ]
  },
  {
   "cell_type": "code",
   "execution_count": 21,
   "id": "081c4b51-328c-4656-9a05-c5c3eafceb3b",
   "metadata": {},
   "outputs": [
    {
     "data": {
      "text/latex": [
       "$\\displaystyle 3 x^{2} + 8 x$"
      ],
      "text/plain": [
       "3*x**2 + 8*x"
      ]
     },
     "execution_count": 21,
     "metadata": {},
     "output_type": "execute_result"
    }
   ],
   "source": [
    "#Oppgave 19\n",
    "#Oppgave 1c:\n",
    "\n",
    "x = Symbol('x')\n",
    "f = x**3 + 4*x**2\n",
    "f_deriv = f.diff(x)\n",
    "f_deriv"
   ]
  },
  {
   "cell_type": "code",
   "execution_count": 22,
   "id": "753db5ff-21bf-469c-aab9-f7372ff6e358",
   "metadata": {},
   "outputs": [
    {
     "data": {
      "text/latex": [
       "$\\displaystyle 6 x^{2}$"
      ],
      "text/plain": [
       "6*x**2"
      ]
     },
     "execution_count": 22,
     "metadata": {},
     "output_type": "execute_result"
    }
   ],
   "source": [
    "#Oppgave 19\n",
    "#Oppgave 1d:\n",
    "\n",
    "x = Symbol('x')\n",
    "f = 2*x**3 + 36**(1/2)\n",
    "f_deriv = f.diff(x)\n",
    "f_deriv"
   ]
  },
  {
   "cell_type": "code",
   "execution_count": 23,
   "id": "465efdcf-38ad-4a10-a7c1-5f0dbf7d9585",
   "metadata": {},
   "outputs": [
    {
     "data": {
      "text/latex": [
       "$\\displaystyle \\frac{1}{2 \\sqrt{x}}$"
      ],
      "text/plain": [
       "1/(2*sqrt(x))"
      ]
     },
     "execution_count": 23,
     "metadata": {},
     "output_type": "execute_result"
    }
   ],
   "source": [
    "#Oppgave 19\n",
    "#Oppgave 1e:\n",
    "\n",
    "x = Symbol('x')\n",
    "f = sqrt(x) + 5**2\n",
    "f_deriv = f.diff(x)\n",
    "f_deriv"
   ]
  },
  {
   "cell_type": "code",
   "execution_count": 24,
   "id": "8ab61f90-e6ae-4065-b1d2-3a3aca544984",
   "metadata": {},
   "outputs": [
    {
     "data": {
      "text/latex": [
       "$\\displaystyle 3 x^{2} - \\frac{1}{x^{2}}$"
      ],
      "text/plain": [
       "3*x**2 - 1/x**2"
      ]
     },
     "execution_count": 24,
     "metadata": {},
     "output_type": "execute_result"
    }
   ],
   "source": [
    "#Oppgave 19\n",
    "#Oppgave 1f:\n",
    "\n",
    "x = Symbol('x')\n",
    "f = x**3 + (1/x)\n",
    "f_deriv = f.diff(x)\n",
    "f_deriv"
   ]
  },
  {
   "cell_type": "code",
   "execution_count": 25,
   "id": "39721b00-96cb-4aac-bccc-e5714ac77c0b",
   "metadata": {},
   "outputs": [
    {
     "data": {
      "text/latex": [
       "$\\displaystyle 3 x^{2} - 2 x + 0.25$"
      ],
      "text/plain": [
       "3*x**2 - 2*x + 0.25"
      ]
     },
     "execution_count": 25,
     "metadata": {},
     "output_type": "execute_result"
    }
   ],
   "source": [
    "#Oppgave 19\n",
    "#Oppgave 1g:\n",
    "\n",
    "x = Symbol('x')\n",
    "f = x**3 - x**2 + (1/4)*x\n",
    "f_deriv = f.diff(x)\n",
    "f_deriv"
   ]
  },
  {
   "cell_type": "code",
   "execution_count": 26,
   "id": "4558e48b-aa0c-468c-bb99-6f4aded3150e",
   "metadata": {},
   "outputs": [
    {
     "data": {
      "text/latex": [
       "$\\displaystyle 36 x^{5} - \\frac{1}{x^{2}}$"
      ],
      "text/plain": [
       "36*x**5 - 1/x**2"
      ]
     },
     "execution_count": 26,
     "metadata": {},
     "output_type": "execute_result"
    }
   ],
   "source": [
    "#Oppgave 19\n",
    "#Oppgave 2a:\n",
    "\n",
    "x = Symbol('x')\n",
    "f = (1/x) + 6*x**6\n",
    "f_deriv = f.diff(x)\n",
    "f_deriv"
   ]
  },
  {
   "cell_type": "code",
   "execution_count": 27,
   "id": "c3853f7f-0ff6-45ff-98de-9476d5765474",
   "metadata": {},
   "outputs": [
    {
     "data": {
      "text/latex": [
       "$\\displaystyle 1.5 x^{2} - 1$"
      ],
      "text/plain": [
       "1.5*x**2 - 1"
      ]
     },
     "execution_count": 27,
     "metadata": {},
     "output_type": "execute_result"
    }
   ],
   "source": [
    "#Oppgave 19\n",
    "#Oppgave 2b:\n",
    "\n",
    "x = Symbol('x')\n",
    "f = -x + (1/2)*x**3\n",
    "f_deriv = f.diff(x)\n",
    "f_deriv"
   ]
  },
  {
   "cell_type": "code",
   "execution_count": 28,
   "id": "b57b9113-2cf0-48c5-8fca-12608c2cd593",
   "metadata": {},
   "outputs": [
    {
     "data": {
      "text/latex": [
       "$\\displaystyle x^{2} + x \\left(2 x + 2\\right) + 2 x - 3$"
      ],
      "text/plain": [
       "x**2 + x*(2*x + 2) + 2*x - 3"
      ]
     },
     "execution_count": 28,
     "metadata": {},
     "output_type": "execute_result"
    }
   ],
   "source": [
    "#Oppgave 19\n",
    "#Oppgave 2c:\n",
    "\n",
    "x = Symbol('x')\n",
    "f = x * (x**2 + 2*x - 3)\n",
    "f_deriv = f.diff(x)\n",
    "f_deriv"
   ]
  },
  {
   "cell_type": "code",
   "execution_count": 29,
   "id": "d37f52c5-75a6-4e4c-aab5-9a856bbcff70",
   "metadata": {},
   "outputs": [
    {
     "data": {
      "text/latex": [
       "$\\displaystyle 9 x^{8}$"
      ],
      "text/plain": [
       "9*x**8"
      ]
     },
     "execution_count": 29,
     "metadata": {},
     "output_type": "execute_result"
    }
   ],
   "source": [
    "#Oppgave 20\n",
    "#Oppgave 1e:\n",
    "\n",
    "x = Symbol('x')\n",
    "f = x**4 * x**5\n",
    "f_deriv = f.diff(x)\n",
    "f_deriv"
   ]
  },
  {
   "cell_type": "code",
   "execution_count": 30,
   "id": "03398266-922d-4813-bcd3-b8992c4fe1cd",
   "metadata": {},
   "outputs": [
    {
     "data": {
      "text/latex": [
       "$\\displaystyle \\frac{3 \\sqrt{x}}{2}$"
      ],
      "text/plain": [
       "3*sqrt(x)/2"
      ]
     },
     "execution_count": 30,
     "metadata": {},
     "output_type": "execute_result"
    }
   ],
   "source": [
    "#Oppgave 20\n",
    "#Oppgave 1f:\n",
    "\n",
    "x = Symbol('x')\n",
    "f = x * sqrt(x)\n",
    "f_deriv = f.diff(x)\n",
    "f_deriv"
   ]
  },
  {
   "cell_type": "code",
   "execution_count": 31,
   "id": "e83a3ea1-e316-4086-bafc-42d32ffce060",
   "metadata": {},
   "outputs": [
    {
     "data": {
      "text/latex": [
       "$\\displaystyle - \\frac{6}{x^{4}}$"
      ],
      "text/plain": [
       "-6/x**4"
      ]
     },
     "execution_count": 31,
     "metadata": {},
     "output_type": "execute_result"
    }
   ],
   "source": [
    "#Oppgave 20\n",
    "#Oppgave 1g:\n",
    "\n",
    "x = Symbol('x')\n",
    "f = 2/x**3\n",
    "f_deriv = f.diff(x)\n",
    "f_deriv"
   ]
  },
  {
   "cell_type": "code",
   "execution_count": 32,
   "id": "83467a4b-b766-4bb6-b0eb-86d6b533f90c",
   "metadata": {},
   "outputs": [
    {
     "data": {
      "text/latex": [
       "$\\displaystyle \\frac{2}{x^{2}} - \\frac{3 \\left(x^{2} - 2\\right)}{x^{4}}$"
      ],
      "text/plain": [
       "2/x**2 - 3*(x**2 - 2)/x**4"
      ]
     },
     "execution_count": 32,
     "metadata": {},
     "output_type": "execute_result"
    }
   ],
   "source": [
    "#Oppgave 20\n",
    "#Oppgave 1h:\n",
    "\n",
    "x = Symbol('x')\n",
    "f = (x**2 - 2)/x**3\n",
    "f_deriv = f.diff(x)\n",
    "f_deriv"
   ]
  },
  {
   "cell_type": "code",
   "execution_count": 33,
   "id": "c9ba575a-dd5f-45ff-a110-3400b71f4ad3",
   "metadata": {},
   "outputs": [
    {
     "data": {
      "text/latex": [
       "$\\displaystyle \\frac{13 x^{\\frac{11}{2}}}{2}$"
      ],
      "text/plain": [
       "13*x**(11/2)/2"
      ]
     },
     "execution_count": 33,
     "metadata": {},
     "output_type": "execute_result"
    }
   ],
   "source": [
    "#Oppgave 20\n",
    "#Oppgave 1i:\n",
    "\n",
    "x = Symbol('x')\n",
    "f = sqrt(x) * x**6\n",
    "f_deriv = f.diff(x)\n",
    "f_deriv"
   ]
  },
  {
   "cell_type": "code",
   "execution_count": 34,
   "id": "37833fe4-6bf6-4a65-8737-8450876772de",
   "metadata": {},
   "outputs": [
    {
     "data": {
      "text/latex": [
       "$\\displaystyle 3 x^{2} + 1$"
      ],
      "text/plain": [
       "3*x**2 + 1"
      ]
     },
     "execution_count": 34,
     "metadata": {},
     "output_type": "execute_result"
    }
   ],
   "source": [
    "#Oppgave 20\n",
    "#Oppgave 1j:\n",
    "\n",
    "x = Symbol('x')\n",
    "f = x * (x**2 + 1)\n",
    "f_deriv = f.diff(x)\n",
    "f_deriv"
   ]
  },
  {
   "cell_type": "code",
   "execution_count": 35,
   "id": "212a6d66-93f7-4185-902c-07d5d4fcfd3b",
   "metadata": {},
   "outputs": [
    {
     "data": {
      "text/latex": [
       "$\\displaystyle - \\frac{3 x^{2} \\left(x^{2} + 4\\right)}{\\left(x^{3} - 1\\right)^{2}} + \\frac{2 x}{x^{3} - 1}$"
      ],
      "text/plain": [
       "-3*x**2*(x**2 + 4)/(x**3 - 1)**2 + 2*x/(x**3 - 1)"
      ]
     },
     "execution_count": 35,
     "metadata": {},
     "output_type": "execute_result"
    }
   ],
   "source": [
    "#Oppgave 20\n",
    "#Oppgave 1k\n",
    "\n",
    "x = Symbol('x')\n",
    "f = (x**2 + 4) / (x**3 - 1)\n",
    "f_deriv = f.diff(x)\n",
    "f_deriv"
   ]
  },
  {
   "cell_type": "code",
   "execution_count": 36,
   "id": "312fcfce-c821-4969-8dd0-17ab7ce13160",
   "metadata": {},
   "outputs": [
    {
     "data": {
      "text/latex": [
       "$\\displaystyle \\frac{x^{2} \\left(- 2 x - 2\\right)}{\\left(x^{2} + 2 x\\right)^{2}} + \\frac{2 x}{x^{2} + 2 x}$"
      ],
      "text/plain": [
       "x**2*(-2*x - 2)/(x**2 + 2*x)**2 + 2*x/(x**2 + 2*x)"
      ]
     },
     "execution_count": 36,
     "metadata": {},
     "output_type": "execute_result"
    }
   ],
   "source": [
    "#Oppgave 20\n",
    "#Oppgave 1l:\n",
    "\n",
    "x = Symbol('x')\n",
    "f = x**2/(x**2 + 2*x)\n",
    "f_deriv = f.diff(x)\n",
    "f_deriv"
   ]
  },
  {
   "cell_type": "code",
   "execution_count": 37,
   "id": "15dd4eec-1d12-482c-a396-047030e3e539",
   "metadata": {},
   "outputs": [
    {
     "data": {
      "text/latex": [
       "$\\displaystyle \\frac{2 x + 4}{x - 2} - \\frac{x^{2} + 4 x + 2}{\\left(x - 2\\right)^{2}}$"
      ],
      "text/plain": [
       "(2*x + 4)/(x - 2) - (x**2 + 4*x + 2)/(x - 2)**2"
      ]
     },
     "execution_count": 37,
     "metadata": {},
     "output_type": "execute_result"
    }
   ],
   "source": [
    "#Oppgave 20\n",
    "#Oppgave 1m:\n",
    "\n",
    "x = Symbol('x')\n",
    "f = (x**2 + 4*x + 2)/(x - 2)\n",
    "f_deriv = f.diff(x)\n",
    "f_deriv"
   ]
  },
  {
   "cell_type": "code",
   "execution_count": 38,
   "id": "04d7c41b-23b5-4454-a642-865fbbfd58b5",
   "metadata": {},
   "outputs": [
    {
     "data": {
      "text/latex": [
       "$\\displaystyle - \\frac{2 x \\left(x^{3} - 2 x\\right)}{\\left(x^{2} - 1\\right)^{2}} + \\frac{3 x^{2} - 2}{x^{2} - 1}$"
      ],
      "text/plain": [
       "-2*x*(x**3 - 2*x)/(x**2 - 1)**2 + (3*x**2 - 2)/(x**2 - 1)"
      ]
     },
     "execution_count": 38,
     "metadata": {},
     "output_type": "execute_result"
    }
   ],
   "source": [
    "#Oppgave 20\n",
    "#Oppgave 2a:\n",
    "\n",
    "x = Symbol('x')\n",
    "f = (x**3 - 2*x)/(x**2 - 1)\n",
    "f_deriv = f.diff(x)\n",
    "f_deriv"
   ]
  },
  {
   "cell_type": "code",
   "execution_count": 40,
   "id": "3b2f4d56-0332-4bd2-8e40-d65e4ea02368",
   "metadata": {},
   "outputs": [
    {
     "data": {
      "text/latex": [
       "$\\displaystyle 2 x \\left(x^{2} - 1\\right) + 2 x \\left(x^{2} + 1\\right)$"
      ],
      "text/plain": [
       "2*x*(x**2 - 1) + 2*x*(x**2 + 1)"
      ]
     },
     "execution_count": 40,
     "metadata": {},
     "output_type": "execute_result"
    }
   ],
   "source": [
    "#Oppgave 20\n",
    "#Oppgave 2b:\n",
    "\n",
    "x = Symbol('x')\n",
    "f = (x**2 + 1) * (x**2 - 1)\n",
    "f_deriv = f.diff(x)\n",
    "f_deriv"
   ]
  },
  {
   "cell_type": "code",
   "execution_count": 39,
   "id": "4fa1aadc-0a86-485e-ad22-7416cdd587d7",
   "metadata": {},
   "outputs": [
    {
     "data": {
      "text/latex": [
       "$\\displaystyle - \\frac{3 x^{2} \\cdot \\left(3 x - 4\\right)}{\\left(x^{3} + 7\\right)^{2}} + \\frac{3}{x^{3} + 7}$"
      ],
      "text/plain": [
       "-3*x**2*(3*x - 4)/(x**3 + 7)**2 + 3/(x**3 + 7)"
      ]
     },
     "execution_count": 39,
     "metadata": {},
     "output_type": "execute_result"
    }
   ],
   "source": [
    "#Oppgave 20\n",
    "#Oppgave 2c:\n",
    "\n",
    "x = Symbol('x')\n",
    "f = (3*x - 4)/(x**3 + 7)\n",
    "f_deriv = f.diff(x)\n",
    "f_deriv"
   ]
  },
  {
   "cell_type": "code",
   "execution_count": 41,
   "id": "babfb60f-e48d-420d-8685-4973747e63f9",
   "metadata": {},
   "outputs": [
    {
     "data": {
      "text/latex": [
       "$\\displaystyle \\left(15 x^{2} + 30\\right) \\left(x^{3} + 6 x\\right)^{4}$"
      ],
      "text/plain": [
       "(15*x**2 + 30)*(x**3 + 6*x)**4"
      ]
     },
     "execution_count": 41,
     "metadata": {},
     "output_type": "execute_result"
    }
   ],
   "source": [
    "#Oppgave 21\n",
    "#Oppgave 1a:\n",
    "\n",
    "x = Symbol('x')\n",
    "f = (x**3 + 6*x)**5\n",
    "f_deriv = f.diff(x)\n",
    "f_deriv"
   ]
  },
  {
   "cell_type": "code",
   "execution_count": 48,
   "id": "e9a60de8-0878-4356-b41d-2084ebd98db6",
   "metadata": {
    "tags": []
   },
   "outputs": [
    {
     "data": {
      "text/latex": [
       "$\\displaystyle \\frac{2 x}{\\sqrt{2 x^{2} + 5}}$"
      ],
      "text/plain": [
       "2*x/sqrt(2*x**2 + 5)"
      ]
     },
     "execution_count": 48,
     "metadata": {},
     "output_type": "execute_result"
    }
   ],
   "source": [
    "#Oppgave 21\n",
    "#Oppgave 1b:\n",
    "\n",
    "x = Symbol('x')\n",
    "f = sqrt(2*x**2 + 5)\n",
    "f_deriv = f.diff(x)\n",
    "f_deriv"
   ]
  },
  {
   "cell_type": "code",
   "execution_count": 42,
   "id": "00bbb95f-2daa-4e0a-8822-7820d4fac225",
   "metadata": {},
   "outputs": [
    {
     "data": {
      "text/latex": [
       "$\\displaystyle - \\frac{128 x^{5}}{\\left(x^{2} + 3\\right)^{5}} + \\frac{64 x^{3}}{\\left(x^{2} + 3\\right)^{4}}$"
      ],
      "text/plain": [
       "-128*x**5/(x**2 + 3)**5 + 64*x**3/(x**2 + 3)**4"
      ]
     },
     "execution_count": 42,
     "metadata": {},
     "output_type": "execute_result"
    }
   ],
   "source": [
    "#Oppgave 21\n",
    "#Oppgave 1c:\n",
    "\n",
    "x = Symbol('x')\n",
    "f = (2*x/(x**2 + 3))**4\n",
    "f_deriv = f.diff(x)\n",
    "f_deriv"
   ]
  },
  {
   "cell_type": "code",
   "execution_count": 14,
   "id": "3a4bc248-be2c-464c-9104-e90efe153c97",
   "metadata": {},
   "outputs": [
    {
     "data": {
      "text/latex": [
       "$\\displaystyle 12.0 x^{3} \\left(2 x^{4} + 9\\right)^{0.5}$"
      ],
      "text/plain": [
       "12.0*x**3*(2*x**4 + 9)**0.5"
      ]
     },
     "execution_count": 14,
     "metadata": {},
     "output_type": "execute_result"
    }
   ],
   "source": [
    "#Oppgave 21\n",
    "#Oppgave 1d:\n",
    "\n",
    "x = Symbol('x')\n",
    "f = (2*x**4 + 9)**(3/2)\n",
    "f_prime = f.diff(x)\n",
    "f_prime"
   ]
  },
  {
   "cell_type": "code",
   "execution_count": 43,
   "id": "6c1268e1-6d49-4386-a7bd-08195f254677",
   "metadata": {},
   "outputs": [
    {
     "data": {
      "text/latex": [
       "$\\displaystyle - \\frac{1}{x \\sqrt{x^{2}}}$"
      ],
      "text/plain": [
       "-1/(x*sqrt(x**2))"
      ]
     },
     "execution_count": 43,
     "metadata": {},
     "output_type": "execute_result"
    }
   ],
   "source": [
    "#Oppgave 21\n",
    "#Oppgave 1e:\n",
    "\n",
    "x = Symbol('x')\n",
    "f = 1/(sqrt(1 * x**2))\n",
    "f_deriv = f.diff(x)\n",
    "f_deriv"
   ]
  },
  {
   "cell_type": "code",
   "execution_count": 44,
   "id": "a47f84bf-b983-4a9c-8a77-23d53bfb604a",
   "metadata": {},
   "outputs": [
    {
     "data": {
      "text/latex": [
       "$\\displaystyle x^{2} \\cdot \\left(6 x + 6\\right) \\left(x^{2} + 2 x\\right)^{2} + 2 x \\left(x^{2} + 2 x\\right)^{3}$"
      ],
      "text/plain": [
       "x**2*(6*x + 6)*(x**2 + 2*x)**2 + 2*x*(x**2 + 2*x)**3"
      ]
     },
     "execution_count": 44,
     "metadata": {},
     "output_type": "execute_result"
    }
   ],
   "source": [
    "#Oppgave 21\n",
    "#Oppgave 1f:\n",
    "\n",
    "x = Symbol('x')\n",
    "f = x**2 * (x**2 + 2*x)**3\n",
    "f_deriv = f.diff(x)\n",
    "f_deriv"
   ]
  },
  {
   "cell_type": "code",
   "execution_count": 45,
   "id": "e18b9da7-091d-4c8a-933e-137278bfbf04",
   "metadata": {},
   "outputs": [
    {
     "data": {
      "text/latex": [
       "$\\displaystyle \\frac{x^{2} \\left(x - 1\\right)}{\\sqrt{x^{2} - 2 x}} + 2 x \\sqrt{x^{2} - 2 x}$"
      ],
      "text/plain": [
       "x**2*(x - 1)/sqrt(x**2 - 2*x) + 2*x*sqrt(x**2 - 2*x)"
      ]
     },
     "execution_count": 45,
     "metadata": {},
     "output_type": "execute_result"
    }
   ],
   "source": [
    "#Oppgave 21\n",
    "#Oppgave 1g:\n",
    "\n",
    "x = Symbol('x')\n",
    "f = x**2 * sqrt(x**2 - 2*x)\n",
    "f_deriv = f.diff(x)\n",
    "f_deriv"
   ]
  },
  {
   "cell_type": "code",
   "execution_count": 46,
   "id": "1f4fc9f1-0ae0-4d9d-9252-8abd1ac9e2a7",
   "metadata": {},
   "outputs": [
    {
     "data": {
      "text/latex": [
       "$\\displaystyle \\frac{x^{2} \\left(- 6 x - 3\\right)}{\\left(x^{2} + x\\right)^{4}} + \\frac{2 x}{\\left(x^{2} + x\\right)^{3}}$"
      ],
      "text/plain": [
       "x**2*(-6*x - 3)/(x**2 + x)**4 + 2*x/(x**2 + x)**3"
      ]
     },
     "execution_count": 46,
     "metadata": {},
     "output_type": "execute_result"
    }
   ],
   "source": [
    "#Oppgave 21\n",
    "#Oppgave 1h:\n",
    "\n",
    "x = Symbol('x')\n",
    "f = x**2/(x**2 + x)**3\n",
    "f_deriv = f.diff(x)\n",
    "f_deriv"
   ]
  },
  {
   "cell_type": "code",
   "execution_count": 29,
   "id": "88e09d41-19ab-4adf-8908-a967a8573bf2",
   "metadata": {},
   "outputs": [
    {
     "data": {
      "text/latex": [
       "$\\displaystyle 9 x^{2} \\left(x^{2} + 1\\right)^{2} \\left(x^{3} + 1\\right)^{2} + 4 x \\left(x^{2} + 1\\right) \\left(x^{3} + 1\\right)^{3}$"
      ],
      "text/plain": [
       "9*x**2*(x**2 + 1)**2*(x**3 + 1)**2 + 4*x*(x**2 + 1)*(x**3 + 1)**3"
      ]
     },
     "execution_count": 29,
     "metadata": {},
     "output_type": "execute_result"
    }
   ],
   "source": [
    "#Oppgave 21\n",
    "#Oppgave 1i:\n",
    "\n",
    "x = Symbol('x')\n",
    "f = (x**2 + 1)**2 * (x**3 + 1)**3\n",
    "f_deriv = f.diff(x)\n",
    "f_deriv"
   ]
  },
  {
   "cell_type": "code",
   "execution_count": 30,
   "id": "8a534186-d37d-497b-8ad8-90823b856c6c",
   "metadata": {},
   "outputs": [
    {
     "data": {
      "text/latex": [
       "$\\displaystyle \\frac{0.5 \\cdot \\left(24 x + 8\\right) \\left(\\left(3 x^{2} + 2 x\\right)^{4}\\right)^{0.5}}{3 x^{2} + 2 x}$"
      ],
      "text/plain": [
       "0.5*(24*x + 8)*((3*x**2 + 2*x)**4)**0.5/(3*x**2 + 2*x)"
      ]
     },
     "execution_count": 30,
     "metadata": {},
     "output_type": "execute_result"
    }
   ],
   "source": [
    "#Oppgave 21\n",
    "#Oppgave 2a:\n",
    "\n",
    "x = Symbol('x')\n",
    "f = ((3*x**2 + 2*x)**4)**(1/2)\n",
    "f_deriv = f.diff(x)\n",
    "f_deriv"
   ]
  },
  {
   "cell_type": "code",
   "execution_count": 31,
   "id": "654015b8-24f9-49cc-ac32-d7c9e8ece8ce",
   "metadata": {},
   "outputs": [
    {
     "data": {
      "text/latex": [
       "$\\displaystyle 15 x^{2} \\left(x^{3} + 3\\right)^{4} + 8 x \\left(x^{2} + 3\\right)^{3}$"
      ],
      "text/plain": [
       "15*x**2*(x**3 + 3)**4 + 8*x*(x**2 + 3)**3"
      ]
     },
     "execution_count": 31,
     "metadata": {},
     "output_type": "execute_result"
    }
   ],
   "source": [
    "#Oppgave 21\n",
    "#Oppgave 2b:\n",
    "\n",
    "x = Symbol('x')\n",
    "f = (x**3 + 3)**5 + (x**2 + 3)**4\n",
    "f_deriv = f.diff(x)\n",
    "f_deriv"
   ]
  },
  {
   "cell_type": "code",
   "execution_count": 3,
   "id": "5b61c26e-a55c-440c-9ac0-33faa6debb02",
   "metadata": {},
   "outputs": [
    {
     "data": {
      "text/latex": [
       "$\\displaystyle \\frac{2 x}{\\sqrt{2 x^{2} + 5}}$"
      ],
      "text/plain": [
       "2*x/sqrt(2*x**2 + 5)"
      ]
     },
     "execution_count": 3,
     "metadata": {},
     "output_type": "execute_result"
    }
   ],
   "source": [
    "#Oppgave 21\n",
    "#Oppgave 2c:\n",
    "\n",
    "x = Symbol('x')\n",
    "f = sqrt(2*x**2 + 5)\n",
    "f_deriv = f.diff(x)\n",
    "f_deriv"
   ]
  },
  {
   "cell_type": "code",
   "execution_count": 33,
   "id": "4370af52-73ea-4d68-a026-91e1e6951f29",
   "metadata": {},
   "outputs": [
    {
     "data": {
      "text/latex": [
       "$\\displaystyle \\frac{\\left(18 x + 6\\right) \\left(3 x^{2} + 2 x\\right)^{2}}{x^{2}} - \\frac{2 \\left(3 x^{2} + 2 x\\right)^{3}}{x^{3}}$"
      ],
      "text/plain": [
       "(18*x + 6)*(3*x**2 + 2*x)**2/x**2 - 2*(3*x**2 + 2*x)**3/x**3"
      ]
     },
     "execution_count": 33,
     "metadata": {},
     "output_type": "execute_result"
    }
   ],
   "source": [
    "#Oppgave 21\n",
    "#Oppgave 2d:\n",
    "\n",
    "x = Symbol('x')\n",
    "f = (2*x + 3*x**2)**3 / x**2\n",
    "f_deriv = f.diff(x)\n",
    "f_deriv"
   ]
  },
  {
   "cell_type": "code",
   "execution_count": 40,
   "id": "7c45b70f-0cd6-4cca-a500-bdfbdd71e07a",
   "metadata": {},
   "outputs": [
    {
     "data": {
      "text/latex": [
       "$\\displaystyle \\frac{1.33333333333333 x^{3}}{\\left(x^{4} - 5\\right)^{0.666666666666667}}$"
      ],
      "text/plain": [
       "1.33333333333333*x**3/(x**4 - 5)**0.666666666666667"
      ]
     },
     "execution_count": 40,
     "metadata": {},
     "output_type": "execute_result"
    }
   ],
   "source": [
    "#Oppgave 21\n",
    "#Oppgave 2e:\n",
    "\n",
    "x = Symbol('x')\n",
    "f = (x**4 - 5)**(1/3)\n",
    "f_deriv = f.diff(x)\n",
    "f_deriv"
   ]
  },
  {
   "cell_type": "code",
   "execution_count": 41,
   "id": "a23968e7-beef-442b-beac-05a6bcc5a3e7",
   "metadata": {},
   "outputs": [
    {
     "data": {
      "text/latex": [
       "$\\displaystyle - \\frac{2 x^{6}}{\\left(x^{4} - 1\\right)^{2}} + \\frac{3 x^{2}}{2 \\left(x^{4} - 1\\right)}$"
      ],
      "text/plain": [
       "-2*x**6/(x**4 - 1)**2 + 3*x**2/(2*(x**4 - 1))"
      ]
     },
     "execution_count": 41,
     "metadata": {},
     "output_type": "execute_result"
    }
   ],
   "source": [
    "#Oppgave 21\n",
    "#Oppgave 2f:\n",
    "\n",
    "x = Symbol('x')\n",
    "f = x**3/(x**4 - 1)**1/2\n",
    "f_deriv = f.diff(x)\n",
    "f_deriv"
   ]
  },
  {
   "cell_type": "code",
   "execution_count": 52,
   "id": "ab8eeeeb-294e-49c5-8b48-15f201a1c3a6",
   "metadata": {
    "tags": []
   },
   "outputs": [
    {
     "data": {
      "text/latex": [
       "$\\displaystyle \\frac{1}{x}$"
      ],
      "text/plain": [
       "1/x"
      ]
     },
     "execution_count": 52,
     "metadata": {},
     "output_type": "execute_result"
    }
   ],
   "source": [
    "#Oppgave 22:\n",
    "#Oppgave 1a:\n",
    "\n",
    "x = Symbol('x')\n",
    "f = ln(5*x)\n",
    "f_deriv = f.diff(x)\n",
    "f_deriv"
   ]
  },
  {
   "cell_type": "code",
   "execution_count": 6,
   "id": "226b337f-68bc-4637-a3db-0ae43ab9a751",
   "metadata": {},
   "outputs": [
    {
     "data": {
      "text/latex": [
       "$\\displaystyle 0.135335283236613$"
      ],
      "text/plain": [
       "0.135335283236613"
      ]
     },
     "execution_count": 6,
     "metadata": {},
     "output_type": "execute_result"
    }
   ],
   "source": [
    "#Oppgave 22:\n",
    "#Oppgave 1b:\n",
    "\n",
    "x = Symbol('x')\n",
    "f = math.e**-2*x\n",
    "f_deriv = f.diff(x)\n",
    "f_deriv"
   ]
  },
  {
   "cell_type": "code",
   "execution_count": 53,
   "id": "28718e7c-fe65-43a8-a34a-1c6fa2cdde72",
   "metadata": {},
   "outputs": [
    {
     "data": {
      "text/latex": [
       "$\\displaystyle \\frac{1}{x}$"
      ],
      "text/plain": [
       "1/x"
      ]
     },
     "execution_count": 53,
     "metadata": {},
     "output_type": "execute_result"
    }
   ],
   "source": [
    "#Oppgave 22\n",
    "#Oppgave 1c:\n",
    "\n",
    "x = Symbol('x')\n",
    "f = ln(12*x) - 3\n",
    "f_deriv = f.diff(x)\n",
    "f_deriv"
   ]
  },
  {
   "cell_type": "code",
   "execution_count": 54,
   "id": "32816538-6629-4e60-8f1e-0f7d47b5736e",
   "metadata": {},
   "outputs": [
    {
     "data": {
      "text/latex": [
       "$\\displaystyle 2^{x} \\log{\\left(2 \\right)}$"
      ],
      "text/plain": [
       "2**x*log(2)"
      ]
     },
     "execution_count": 54,
     "metadata": {},
     "output_type": "execute_result"
    }
   ],
   "source": [
    "#Oppgave 22\n",
    "#Oppgave 1d:\n",
    "\n",
    "x = Symbol('x')\n",
    "f = 2**x\n",
    "f_deriv = f.diff(x)\n",
    "f_deriv"
   ]
  },
  {
   "cell_type": "code",
   "execution_count": 7,
   "id": "ce3424e4-4d5c-4945-9a08-dcf3f9fea0df",
   "metadata": {},
   "outputs": [
    {
     "data": {
      "text/latex": [
       "$\\displaystyle 3.0 \\cdot 2.71828182845905^{3 x + 5}$"
      ],
      "text/plain": [
       "3.0*2.71828182845905**(3*x + 5)"
      ]
     },
     "execution_count": 7,
     "metadata": {},
     "output_type": "execute_result"
    }
   ],
   "source": [
    "#Oppgave 22\n",
    "#Oppgave 1e:\n",
    "\n",
    "x = Symbol('x')\n",
    "f = math.e**(3*x + 5)\n",
    "f_deriv = f.diff(x)\n",
    "f_deriv"
   ]
  },
  {
   "cell_type": "code",
   "execution_count": 55,
   "id": "9e2590da-4e57-4b88-908f-6a3d33ad5e94",
   "metadata": {},
   "outputs": [
    {
     "data": {
      "text/latex": [
       "$\\displaystyle \\frac{5 x^{4}}{x^{5} + 1}$"
      ],
      "text/plain": [
       "5*x**4/(x**5 + 1)"
      ]
     },
     "execution_count": 55,
     "metadata": {},
     "output_type": "execute_result"
    }
   ],
   "source": [
    "#Oppgave 22\n",
    "#Oppgave 1f:\n",
    "\n",
    "x = Symbol('x')\n",
    "f = ln(x**5 + 1)\n",
    "f_deriv = f.diff(x)\n",
    "f_deriv"
   ]
  },
  {
   "cell_type": "code",
   "execution_count": 11,
   "id": "234fedcf-f105-47b2-bd09-98e37fd03144",
   "metadata": {},
   "outputs": [
    {
     "data": {
      "text/latex": [
       "$\\displaystyle - \\frac{1}{x}$"
      ],
      "text/plain": [
       "-1/x"
      ]
     },
     "execution_count": 11,
     "metadata": {},
     "output_type": "execute_result"
    }
   ],
   "source": [
    "#Oppgave 22\n",
    "#Oppgave 1h:\n",
    "\n",
    "x = Symbol('x')\n",
    "f = ln(1/x)\n",
    "f_deriv = f.diff(x)\n",
    "f_deriv"
   ]
  },
  {
   "cell_type": "code",
   "execution_count": 14,
   "id": "5c679635-349f-47c6-b931-8244514599ae",
   "metadata": {
    "collapsed": true,
    "jupyter": {
     "outputs_hidden": true
    },
    "tags": []
   },
   "outputs": [
    {
     "ename": "SyntaxError",
     "evalue": "invalid syntax (4261883986.py, line 5)",
     "output_type": "error",
     "traceback": [
      "\u001b[0;36m  Input \u001b[0;32mIn [14]\u001b[0;36m\u001b[0m\n\u001b[0;31m    f = 6math.log*x + 3* math.e **4*x\u001b[0m\n\u001b[0m         ^\u001b[0m\n\u001b[0;31mSyntaxError\u001b[0m\u001b[0;31m:\u001b[0m invalid syntax\n"
     ]
    }
   ],
   "source": [
    "#Oppgave 22\n",
    "#Oppgave 1i:\n",
    "\n",
    "x = Symbol('x')\n",
    "f = 6*math.log*x + 3* math.e **4*x\n",
    "f_deriv = f.diff(x)\n",
    "f_deriv"
   ]
  },
  {
   "cell_type": "code",
   "execution_count": 16,
   "id": "006c1baa-3052-45fa-979f-48602293ebd3",
   "metadata": {},
   "outputs": [
    {
     "data": {
      "text/latex": [
       "$\\displaystyle - 1.0 \\cdot 2.71828182845905^{- x} x + 2.71828182845905^{- x}$"
      ],
      "text/plain": [
       "-1.0*x/2.71828182845905**x + 2.71828182845905**(-x)"
      ]
     },
     "execution_count": 16,
     "metadata": {},
     "output_type": "execute_result"
    }
   ],
   "source": [
    "#Oppgave 22\n",
    "#Oppgave 1j:\n",
    "\n",
    "x = Symbol('x')\n",
    "f = x*math.e**-x\n",
    "f_deriv = f.diff(x)\n",
    "f_deriv"
   ]
  },
  {
   "cell_type": "code",
   "execution_count": 57,
   "id": "3a1b16ef-0b96-4a63-9767-250a1219efe3",
   "metadata": {},
   "outputs": [
    {
     "data": {
      "text/latex": [
       "$\\displaystyle \\frac{2 x^{2}}{2 x + 2} + 2 x \\log{\\left(2 x + 2 \\right)}$"
      ],
      "text/plain": [
       "2*x**2/(2*x + 2) + 2*x*log(2*x + 2)"
      ]
     },
     "execution_count": 57,
     "metadata": {},
     "output_type": "execute_result"
    }
   ],
   "source": [
    "#Oppgave 22\n",
    "#Oppgave 1k:\n",
    "\n",
    "x = Symbol('x')\n",
    "f = x**2 * ln(x*2 +2)\n",
    "f_deriv = f.diff(x)\n",
    "f_deriv"
   ]
  },
  {
   "cell_type": "code",
   "execution_count": 63,
   "id": "22c9f96b-eccf-4815-ab12-0e86147104b0",
   "metadata": {},
   "outputs": [
    {
     "data": {
      "text/latex": [
       "$\\displaystyle 0.135335283236613$"
      ],
      "text/plain": [
       "0.135335283236613"
      ]
     },
     "execution_count": 63,
     "metadata": {},
     "output_type": "execute_result"
    }
   ],
   "source": [
    "#Oppgave 22\n",
    "#Oppgave 2a:\n",
    "\n",
    "x = Symbol('x')\n",
    "f = math.e**-2*x\n",
    "f_deriv = f.diff(x)\n",
    "f_deriv"
   ]
  },
  {
   "cell_type": "code",
   "execution_count": 58,
   "id": "09b9d4f9-573a-42d2-bfd3-300ba987f858",
   "metadata": {},
   "outputs": [
    {
     "data": {
      "text/latex": [
       "$\\displaystyle \\frac{\\left(x^{2} + 1\\right) \\left(- \\frac{2 x \\left(x^{2} - 1\\right)}{\\left(x^{2} + 1\\right)^{2}} + \\frac{2 x}{x^{2} + 1}\\right)}{x^{2} - 1}$"
      ],
      "text/plain": [
       "(x**2 + 1)*(-2*x*(x**2 - 1)/(x**2 + 1)**2 + 2*x/(x**2 + 1))/(x**2 - 1)"
      ]
     },
     "execution_count": 58,
     "metadata": {},
     "output_type": "execute_result"
    }
   ],
   "source": [
    "#Oppgave 22\n",
    "#Oppgave 2b:\n",
    "\n",
    "x = Symbol('x')\n",
    "f = ln((x**2 - 1)/(x**2 + 1))\n",
    "f_deriv = f.diff(x)\n",
    "f_deriv"
   ]
  },
  {
   "cell_type": "code",
   "execution_count": 59,
   "id": "7cda05c7-e8cf-4d38-9cc1-edcccd5b5e91",
   "metadata": {},
   "outputs": [
    {
     "data": {
      "text/latex": [
       "$\\displaystyle \\frac{2 x^{3}}{x^{2} + 2} + 2 x \\log{\\left(x^{2} + 2 \\right)}$"
      ],
      "text/plain": [
       "2*x**3/(x**2 + 2) + 2*x*log(x**2 + 2)"
      ]
     },
     "execution_count": 59,
     "metadata": {},
     "output_type": "execute_result"
    }
   ],
   "source": [
    "#Oppgave 22\n",
    "#Oppgave 2c:\n",
    "\n",
    "x = Symbol('x')\n",
    "f = x**2 * ln(x**2 +2)\n",
    "f_deriv = f.diff(x)\n",
    "f_deriv"
   ]
  },
  {
   "cell_type": "code",
   "execution_count": 18,
   "id": "155ba418-eb39-41cc-ba03-a3be5f317e80",
   "metadata": {},
   "outputs": [
    {
     "data": {
      "text/latex": [
       "$\\displaystyle - \\frac{2 \\cdot 2.71828182845905^{- x} x}{\\left(x^{2} + 1\\right)^{2}} - \\frac{1.0 \\cdot 2.71828182845905^{- x}}{x^{2} + 1}$"
      ],
      "text/plain": [
       "-2*x/(2.71828182845905**x*(x**2 + 1)**2) - 1.0/(2.71828182845905**x*(x**2 + 1))"
      ]
     },
     "execution_count": 18,
     "metadata": {},
     "output_type": "execute_result"
    }
   ],
   "source": [
    "#Oppgave 22\n",
    "#Oppgave 2d:\n",
    "\n",
    "x = Symbol('x')\n",
    "f = math.e**-x / (x**2 + 1)\n",
    "f_deriv = f.diff(x)\n",
    "f_deriv"
   ]
  }
 ],
 "metadata": {
  "kernelspec": {
   "display_name": "Python 3 (ipykernel)",
   "language": "python",
   "name": "python3"
  },
  "language_info": {
   "codemirror_mode": {
    "name": "ipython",
    "version": 3
   },
   "file_extension": ".py",
   "mimetype": "text/x-python",
   "name": "python",
   "nbconvert_exporter": "python",
   "pygments_lexer": "ipython3",
   "version": "3.9.13"
  }
 },
 "nbformat": 4,
 "nbformat_minor": 5
}
